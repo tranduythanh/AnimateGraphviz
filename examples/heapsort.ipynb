{
 "cells": [
  {
   "cell_type": "markdown",
   "metadata": {},
   "source": [
    "# Using GraphvizAnim to show how heapsort works"
   ]
  },
  {
   "cell_type": "markdown",
   "metadata": {},
   "source": [
    "Import the required packages and instantiate the animation"
   ]
  },
  {
   "cell_type": "code",
   "execution_count": 1,
   "metadata": {},
   "outputs": [],
   "source": [
    "from animategv import Animation\n",
    "from animategv.jupyter import interactive\n",
    "ga = Animation()"
   ]
  },
  {
   "cell_type": "markdown",
   "metadata": {},
   "source": [
    "Define an heap"
   ]
  },
  {
   "cell_type": "code",
   "execution_count": 2,
   "metadata": {},
   "outputs": [],
   "source": [
    "heap = [ None, 5, 6, 7, 8, 9, 10, 11, 12 ]"
   ]
  },
  {
   "cell_type": "markdown",
   "metadata": {},
   "source": [
    "Now draw it (nodes will be named as the array indices and labelled as the array values)"
   ]
  },
  {
   "cell_type": "code",
   "execution_count": 3,
   "metadata": {},
   "outputs": [],
   "source": [
    "ga.label_node( 1, heap[ 1 ] )\n",
    "for i in range( 2, len( heap ) ):\n",
    "    ga.label_node( i, heap[ i ] )\n",
    "    ga.add_edge( i // 2, i )"
   ]
  },
  {
   "cell_type": "markdown",
   "metadata": {},
   "source": [
    "Define the usual iterative down heap procedure (endowed with animation actions)"
   ]
  },
  {
   "cell_type": "code",
   "execution_count": 4,
   "metadata": {},
   "outputs": [],
   "source": [
    "def down_heap( i, n ):\n",
    "    t = heap[ i ]\n",
    "    while i <= n // 2:\n",
    "        ga.highlight_node( i )\n",
    "        ga.next_step()\n",
    "        j = 2 * i\n",
    "        if j < n and heap[ j ] < heap[ j + 1 ]: j += 1\n",
    "        ga.highlight_edge( i, j )    \n",
    "        ga.next_step()\n",
    "        if t >= heap[ j ]: break\n",
    "        heap[ i ] = heap[ j ]\n",
    "        ga.highlight_node( i )\n",
    "        ga.highlight_node( j )\n",
    "        ga.label_node( i, heap[ i ] )\n",
    "        ga.label_node( j, heap[ j ] )             \n",
    "        ga.next_step()\n",
    "        i = j\n",
    "    heap[ i ] = t\n",
    "    ga.highlight_node( i )\n",
    "    ga.label_node( i, heap[ i ] )\n",
    "    ga.next_step()"
   ]
  },
  {
   "cell_type": "markdown",
   "metadata": {},
   "source": [
    "Fix the heap calling `down_heap` on his lower half"
   ]
  },
  {
   "cell_type": "code",
   "execution_count": 5,
   "metadata": {},
   "outputs": [],
   "source": [
    "n = len( heap ) - 1\n",
    "ga.next_step()\n",
    "for i in range( n // 2, 0, -1 ):\n",
    "    down_heap( i, n )"
   ]
  },
  {
   "cell_type": "markdown",
   "metadata": {},
   "source": [
    "And finally exchange the top with heap positions starting form the last one (fixing again with `down_heap`)"
   ]
  },
  {
   "cell_type": "code",
   "execution_count": 6,
   "metadata": {},
   "outputs": [],
   "source": [
    "ga.next_step()\n",
    "while n > 1:\n",
    "    heap[ 1 ], heap[ n ] = heap[ n ], heap[ 1 ]\n",
    "    ga.highlight_node( 1 )\n",
    "    ga.highlight_node( n )\n",
    "    ga.label_node( 1, heap[ 1 ] )\n",
    "    ga.label_node( n, heap[ n ] )             \n",
    "    ga.next_step()\n",
    "    n -= 1\n",
    "    down_heap( 1, n )"
   ]
  },
  {
   "cell_type": "markdown",
   "metadata": {},
   "source": [
    "We are ready to plot the animation interactively! \n",
    "\n",
    "Be patient: to generate the required 68 graphs will take quite a bit of time; moreover, in case Jupyter does not correctly resize the cell just zoom in and out the document size (with the browser)."
   ]
  },
  {
   "cell_type": "code",
   "execution_count": 7,
   "metadata": {},
   "outputs": [
    {
     "data": {
      "application/vnd.jupyter.widget-view+json": {
       "model_id": "0f5267abc9e3478587dd7b61d9cb0c1c",
       "version_major": 2,
       "version_minor": 0
      },
      "text/plain": [
       "interactive(children=(IntSlider(value=0, description='n', max=67), Output()), _dom_classes=('widget-interact',…"
      ]
     },
     "metadata": {},
     "output_type": "display_data"
    }
   ],
   "source": [
    "interactive( ga, 400 )"
   ]
  }
 ],
 "metadata": {
  "kernelspec": {
   "display_name": "Python 3",
   "language": "python",
   "name": "python3"
  },
  "language_info": {
   "codemirror_mode": {
    "name": "ipython",
    "version": 3
   },
   "file_extension": ".py",
   "mimetype": "text/x-python",
   "name": "python",
   "nbconvert_exporter": "python",
   "pygments_lexer": "ipython3",
   "version": "3.7.2"
  },
  "widgets": {
   "application/vnd.jupyter.widget-state+json": {
    "state": {
     "0145d9752a3347329684415ee18a3df1": {
      "model_module": "@jupyter-widgets/base",
      "model_module_version": "1.1.0",
      "model_name": "LayoutModel",
      "state": {}
     },
     "064543fd497d4af99cfb6d834bc775a1": {
      "model_module": "@jupyter-widgets/base",
      "model_module_version": "1.1.0",
      "model_name": "LayoutModel",
      "state": {}
     },
     "077b39247e63433eaac2ae6e28444f0e": {
      "model_module": "@jupyter-widgets/base",
      "model_module_version": "1.1.0",
      "model_name": "LayoutModel",
      "state": {}
     },
     "07dd9a97c6cb4bd69efa75055c4e954e": {
      "model_module": "@jupyter-widgets/controls",
      "model_module_version": "1.4.0",
      "model_name": "IntSliderModel",
      "state": {
       "description": "n",
       "layout": "IPY_MODEL_40ccd01a12994186b38d1454ef51cf9f",
       "max": 67,
       "style": "IPY_MODEL_a116bbce7e1d40e8bf1a2147ca3a0669",
       "value": 11
      }
     },
     "0bb92d5f16df459fb20899cff0c2beca": {
      "model_module": "@jupyter-widgets/controls",
      "model_module_version": "1.4.0",
      "model_name": "VBoxModel",
      "state": {
       "_dom_classes": [
        "widget-interact"
       ],
       "children": [
        "IPY_MODEL_700ed739dda04be5a86694ab1ae11922",
        "IPY_MODEL_fcf8a07e2e724a9faf4742294f39fcfe"
       ],
       "layout": "IPY_MODEL_cd44cbc517e34f70bbb16c547c30f7e8"
      }
     },
     "0ff2458376ef45688cbfdfef15c77f2a": {
      "model_module": "@jupyter-widgets/base",
      "model_module_version": "1.1.0",
      "model_name": "LayoutModel",
      "state": {}
     },
     "13abb4b49d414b1380e245b34cc7a9ad": {
      "model_module": "@jupyter-widgets/controls",
      "model_module_version": "1.4.0",
      "model_name": "SliderStyleModel",
      "state": {
       "description_width": ""
      }
     },
     "1ad67d55ae6e4b7397dda6a7b828b870": {
      "model_module": "@jupyter-widgets/output",
      "model_module_version": "1.0.0",
      "model_name": "OutputModel",
      "state": {
       "layout": "IPY_MODEL_c9dbc68860ab449b89d4bac08b0371d9",
       "outputs": [
        {
         "ename": "NameError",
         "evalue": "name 'step' is not defined",
         "output_type": "error",
         "traceback": [
          "\u001b[0;31m---------------------------------------------------------------------------\u001b[0m",
          "\u001b[0;31mNameError\u001b[0m                                 Traceback (most recent call last)",
          "\u001b[0;32m~/.local/share/dir-venv/24d353474954826074858e0f8965de74-GraphvizAnim/lib/python3.7/site-packages/ipywidgets/widgets/interaction.py\u001b[0m in \u001b[0;36mupdate\u001b[0;34m(self, *args)\u001b[0m\n\u001b[1;32m    249\u001b[0m                     \u001b[0mvalue\u001b[0m \u001b[0;34m=\u001b[0m \u001b[0mwidget\u001b[0m\u001b[0;34m.\u001b[0m\u001b[0mget_interact_value\u001b[0m\u001b[0;34m(\u001b[0m\u001b[0;34m)\u001b[0m\u001b[0;34m\u001b[0m\u001b[0;34m\u001b[0m\u001b[0m\n\u001b[1;32m    250\u001b[0m                     \u001b[0mself\u001b[0m\u001b[0;34m.\u001b[0m\u001b[0mkwargs\u001b[0m\u001b[0;34m[\u001b[0m\u001b[0mwidget\u001b[0m\u001b[0;34m.\u001b[0m\u001b[0m_kwarg\u001b[0m\u001b[0;34m]\u001b[0m \u001b[0;34m=\u001b[0m \u001b[0mvalue\u001b[0m\u001b[0;34m\u001b[0m\u001b[0;34m\u001b[0m\u001b[0m\n\u001b[0;32m--> 251\u001b[0;31m                 \u001b[0mself\u001b[0m\u001b[0;34m.\u001b[0m\u001b[0mresult\u001b[0m \u001b[0;34m=\u001b[0m \u001b[0mself\u001b[0m\u001b[0;34m.\u001b[0m\u001b[0mf\u001b[0m\u001b[0;34m(\u001b[0m\u001b[0;34m**\u001b[0m\u001b[0mself\u001b[0m\u001b[0;34m.\u001b[0m\u001b[0mkwargs\u001b[0m\u001b[0;34m)\u001b[0m\u001b[0;34m\u001b[0m\u001b[0;34m\u001b[0m\u001b[0m\n\u001b[0m\u001b[1;32m    252\u001b[0m                 \u001b[0mshow_inline_matplotlib_plots\u001b[0m\u001b[0;34m(\u001b[0m\u001b[0;34m)\u001b[0m\u001b[0;34m\u001b[0m\u001b[0;34m\u001b[0m\u001b[0m\n\u001b[1;32m    253\u001b[0m                 \u001b[0;32mif\u001b[0m \u001b[0mself\u001b[0m\u001b[0;34m.\u001b[0m\u001b[0mauto_display\u001b[0m \u001b[0;32mand\u001b[0m \u001b[0mself\u001b[0m\u001b[0;34m.\u001b[0m\u001b[0mresult\u001b[0m \u001b[0;32mis\u001b[0m \u001b[0;32mnot\u001b[0m \u001b[0;32mNone\u001b[0m\u001b[0;34m:\u001b[0m\u001b[0;34m\u001b[0m\u001b[0;34m\u001b[0m\u001b[0m\n",
          "\u001b[0;32m<ipython-input-26-5e921da5663d>\u001b[0m in \u001b[0;36m<lambda>\u001b[0;34m(n)\u001b[0m\n\u001b[0;32m----> 1\u001b[0;31m \u001b[0mwidgets\u001b[0m\u001b[0;34m.\u001b[0m\u001b[0minteractive\u001b[0m\u001b[0;34m(\u001b[0m \u001b[0;32mlambda\u001b[0m \u001b[0mn\u001b[0m\u001b[0;34m:\u001b[0m \u001b[0mdisplay\u001b[0m\u001b[0;34m(\u001b[0m\u001b[0mstep\u001b[0m\u001b[0;34m[\u001b[0m \u001b[0mn\u001b[0m \u001b[0;34m]\u001b[0m\u001b[0;34m)\u001b[0m\u001b[0;34m,\u001b[0m \u001b[0mn\u001b[0m \u001b[0;34m=\u001b[0m \u001b[0mslider\u001b[0m \u001b[0;34m)\u001b[0m\u001b[0;34m\u001b[0m\u001b[0;34m\u001b[0m\u001b[0m\n\u001b[0m",
          "\u001b[0;31mNameError\u001b[0m: name 'step' is not defined"
         ]
        }
       ]
      }
     },
     "2462f70f799b4b13bbab05c394541e75": {
      "model_module": "@jupyter-widgets/controls",
      "model_module_version": "1.4.0",
      "model_name": "VBoxModel",
      "state": {
       "_dom_classes": [
        "widget-interact"
       ],
       "children": [
        "IPY_MODEL_fdc28bc5999f467095f5fb917e3212df",
        "IPY_MODEL_b3ec82e13efa4e3d99bd3b82a5a3e620"
       ],
       "layout": "IPY_MODEL_7dee955a7d80425eb0cb04c4bb015246"
      }
     },
     "29079ce87c474dd29c07e5d35870dc41": {
      "model_module": "@jupyter-widgets/base",
      "model_module_version": "1.1.0",
      "model_name": "LayoutModel",
      "state": {}
     },
     "2c2beeca39d24c1697ba4e96b96b0b4a": {
      "model_module": "@jupyter-widgets/controls",
      "model_module_version": "1.4.0",
      "model_name": "SliderStyleModel",
      "state": {
       "description_width": ""
      }
     },
     "2cdc13884c17444a9193a908620ac90f": {
      "model_module": "@jupyter-widgets/base",
      "model_module_version": "1.1.0",
      "model_name": "LayoutModel",
      "state": {}
     },
     "30efe19df3be448db86bc149074247e4": {
      "model_module": "@jupyter-widgets/controls",
      "model_module_version": "1.4.0",
      "model_name": "IntSliderModel",
      "state": {
       "description": "n",
       "layout": "IPY_MODEL_58b3b1a2b4624393b08d63173a73d01a",
       "max": 67,
       "style": "IPY_MODEL_e900d0138bb849078f9a141b0dfbbe13",
       "value": 28
      }
     },
     "337a68f945554e36ab87aeb91d20f1e0": {
      "model_module": "@jupyter-widgets/base",
      "model_module_version": "1.1.0",
      "model_name": "LayoutModel",
      "state": {}
     },
     "380a61b7b9894e2a80965fac1f204339": {
      "model_module": "@jupyter-widgets/base",
      "model_module_version": "1.1.0",
      "model_name": "LayoutModel",
      "state": {}
     },
     "392867aa796b44cda3fe129f2b189668": {
      "model_module": "@jupyter-widgets/controls",
      "model_module_version": "1.4.0",
      "model_name": "IntSliderModel",
      "state": {
       "description": "n",
       "layout": "IPY_MODEL_0145d9752a3347329684415ee18a3df1",
       "max": 67,
       "style": "IPY_MODEL_2c2beeca39d24c1697ba4e96b96b0b4a"
      }
     },
     "404971416adc453b99b150a74cafbd51": {
      "model_module": "@jupyter-widgets/base",
      "model_module_version": "1.1.0",
      "model_name": "LayoutModel",
      "state": {}
     },
     "40ccd01a12994186b38d1454ef51cf9f": {
      "model_module": "@jupyter-widgets/base",
      "model_module_version": "1.1.0",
      "model_name": "LayoutModel",
      "state": {}
     },
     "45442474e4554d5d88fd24ceb912ec74": {
      "model_module": "@jupyter-widgets/output",
      "model_module_version": "1.0.0",
      "model_name": "OutputModel",
      "state": {
       "layout": "IPY_MODEL_29079ce87c474dd29c07e5d35870dc41",
       "outputs": [
        {
         "data": {
          "image/png": "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\n",
          "text/plain": "<IPython.core.display.Image object>"
         },
         "metadata": {},
         "output_type": "display_data"
        }
       ]
      }
     },
     "4545d1142c9c41e08846ac139b6120bb": {
      "model_module": "@jupyter-widgets/controls",
      "model_module_version": "1.4.0",
      "model_name": "VBoxModel",
      "state": {
       "_dom_classes": [
        "widget-interact"
       ],
       "children": [
        "IPY_MODEL_392867aa796b44cda3fe129f2b189668",
        "IPY_MODEL_8951a96a81bd4ebfa215e2aff4ee00c7"
       ],
       "layout": "IPY_MODEL_48a6363809ae48b4bda448660c12cd2a"
      }
     },
     "470450959b6e4f5bb17afd051030ea04": {
      "model_module": "@jupyter-widgets/controls",
      "model_module_version": "1.4.0",
      "model_name": "IntSliderModel",
      "state": {
       "description": "n",
       "layout": "IPY_MODEL_8ae219550b7945d2a9457b920ecd2952",
       "max": 67,
       "style": "IPY_MODEL_bad7ef750871436d91820947b8fe8a4c",
       "value": 28
      }
     },
     "48a6363809ae48b4bda448660c12cd2a": {
      "model_module": "@jupyter-widgets/base",
      "model_module_version": "1.1.0",
      "model_name": "LayoutModel",
      "state": {}
     },
     "500732e18f794b4e9cf01abee2b54e1d": {
      "model_module": "@jupyter-widgets/controls",
      "model_module_version": "1.4.0",
      "model_name": "IntSliderModel",
      "state": {
       "description": "n",
       "layout": "IPY_MODEL_f40ca474a7a345e197460bb812bf9de4",
       "max": 67,
       "style": "IPY_MODEL_ea5ddf836d4d4c3ca1124fbfbe62fb0f"
      }
     },
     "58b3b1a2b4624393b08d63173a73d01a": {
      "model_module": "@jupyter-widgets/base",
      "model_module_version": "1.1.0",
      "model_name": "LayoutModel",
      "state": {}
     },
     "5d8bb305684d44b0b811007739cb11a0": {
      "model_module": "@jupyter-widgets/base",
      "model_module_version": "1.1.0",
      "model_name": "LayoutModel",
      "state": {}
     },
     "5e71202c7d784893b849d8f847e934d4": {
      "model_module": "@jupyter-widgets/base",
      "model_module_version": "1.1.0",
      "model_name": "LayoutModel",
      "state": {}
     },
     "6c186e465eb240cf880f6c428183be71": {
      "model_module": "@jupyter-widgets/controls",
      "model_module_version": "1.4.0",
      "model_name": "VBoxModel",
      "state": {
       "_dom_classes": [
        "widget-interact"
       ],
       "children": [
        "IPY_MODEL_470450959b6e4f5bb17afd051030ea04",
        "IPY_MODEL_d8ddf335f4c94448bcf091fe5d0974f4"
       ],
       "layout": "IPY_MODEL_064543fd497d4af99cfb6d834bc775a1"
      }
     },
     "6dcd7c03074d486bb3a98f52665a2f7c": {
      "model_module": "@jupyter-widgets/base",
      "model_module_version": "1.1.0",
      "model_name": "LayoutModel",
      "state": {}
     },
     "6e907daf7dcf4df8ac84f87098944d2d": {
      "model_module": "@jupyter-widgets/base",
      "model_module_version": "1.1.0",
      "model_name": "LayoutModel",
      "state": {}
     },
     "6f45a62e8def48d38d9720bde9ab736b": {
      "model_module": "@jupyter-widgets/controls",
      "model_module_version": "1.4.0",
      "model_name": "VBoxModel",
      "state": {
       "_dom_classes": [
        "widget-interact"
       ],
       "children": [
        "IPY_MODEL_500732e18f794b4e9cf01abee2b54e1d",
        "IPY_MODEL_8eb6b4bffe3d4b41a71ce73ac901aed6"
       ],
       "layout": "IPY_MODEL_0ff2458376ef45688cbfdfef15c77f2a"
      }
     },
     "700ed739dda04be5a86694ab1ae11922": {
      "model_module": "@jupyter-widgets/controls",
      "model_module_version": "1.4.0",
      "model_name": "IntSliderModel",
      "state": {
       "description": "n",
       "layout": "IPY_MODEL_f049e6e083514932bee21b8e732840f3",
       "max": 67,
       "style": "IPY_MODEL_d35303be3cba4710b4f31f1792d26e66"
      }
     },
     "70499c5fdff04a18bb9d9dcf1bcb508d": {
      "model_module": "@jupyter-widgets/base",
      "model_module_version": "1.1.0",
      "model_name": "LayoutModel",
      "state": {}
     },
     "74035fe498214065afd6afb5855d47f9": {
      "model_module": "@jupyter-widgets/controls",
      "model_module_version": "1.4.0",
      "model_name": "VBoxModel",
      "state": {
       "_dom_classes": [
        "widget-interact"
       ],
       "children": [
        "IPY_MODEL_07dd9a97c6cb4bd69efa75055c4e954e",
        "IPY_MODEL_b2e010e03a4d484db77c830b2cc10a3c"
       ],
       "layout": "IPY_MODEL_6dcd7c03074d486bb3a98f52665a2f7c"
      }
     },
     "770d7cf6490c4f27b89364fa0bbeb956": {
      "model_module": "@jupyter-widgets/controls",
      "model_module_version": "1.4.0",
      "model_name": "SliderStyleModel",
      "state": {
       "description_width": ""
      }
     },
     "79a3405639bb4f159b59356f0788c045": {
      "model_module": "@jupyter-widgets/base",
      "model_module_version": "1.1.0",
      "model_name": "LayoutModel",
      "state": {}
     },
     "7c08570a71414422bc6e6bc15f8c601f": {
      "model_module": "@jupyter-widgets/base",
      "model_module_version": "1.1.0",
      "model_name": "LayoutModel",
      "state": {}
     },
     "7dee955a7d80425eb0cb04c4bb015246": {
      "model_module": "@jupyter-widgets/base",
      "model_module_version": "1.1.0",
      "model_name": "LayoutModel",
      "state": {}
     },
     "82339cf271b64b4b86e390a7b805fce9": {
      "model_module": "@jupyter-widgets/controls",
      "model_module_version": "1.4.0",
      "model_name": "IntSliderModel",
      "state": {
       "description": "n",
       "layout": "IPY_MODEL_8c17a8b02f3644feafeb04c024c31a01",
       "max": 5,
       "style": "IPY_MODEL_908e11ad7133437a948c7d3816e7ba01",
       "value": 2
      }
     },
     "8951a96a81bd4ebfa215e2aff4ee00c7": {
      "model_module": "@jupyter-widgets/output",
      "model_module_version": "1.0.0",
      "model_name": "OutputModel",
      "state": {
       "layout": "IPY_MODEL_404971416adc453b99b150a74cafbd51"
      }
     },
     "89ac891a897a474bb158c66cf04468a7": {
      "model_module": "@jupyter-widgets/base",
      "model_module_version": "1.1.0",
      "model_name": "LayoutModel",
      "state": {}
     },
     "8ae219550b7945d2a9457b920ecd2952": {
      "model_module": "@jupyter-widgets/base",
      "model_module_version": "1.1.0",
      "model_name": "LayoutModel",
      "state": {}
     },
     "8c17a8b02f3644feafeb04c024c31a01": {
      "model_module": "@jupyter-widgets/base",
      "model_module_version": "1.1.0",
      "model_name": "LayoutModel",
      "state": {}
     },
     "8dd36965ae4a417e98c764a005909949": {
      "model_module": "@jupyter-widgets/base",
      "model_module_version": "1.1.0",
      "model_name": "LayoutModel",
      "state": {}
     },
     "8eb6b4bffe3d4b41a71ce73ac901aed6": {
      "model_module": "@jupyter-widgets/output",
      "model_module_version": "1.0.0",
      "model_name": "OutputModel",
      "state": {
       "layout": "IPY_MODEL_89ac891a897a474bb158c66cf04468a7",
       "outputs": [
        {
         "data": {
          "image/png": "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\n",
          "text/plain": "<IPython.core.display.Image object>"
         },
         "metadata": {},
         "output_type": "display_data"
        }
       ]
      }
     },
     "908e11ad7133437a948c7d3816e7ba01": {
      "model_module": "@jupyter-widgets/controls",
      "model_module_version": "1.4.0",
      "model_name": "SliderStyleModel",
      "state": {
       "description_width": ""
      }
     },
     "96218f58f6e74ffeb1772277a19ae73d": {
      "model_module": "@jupyter-widgets/controls",
      "model_module_version": "1.4.0",
      "model_name": "SliderStyleModel",
      "state": {
       "description_width": ""
      }
     },
     "99d8454b8a5b436d95bb55e124c5c7a7": {
      "model_module": "@jupyter-widgets/base",
      "model_module_version": "1.1.0",
      "model_name": "LayoutModel",
      "state": {}
     },
     "9f389dfbdec74083a790a54f9df95926": {
      "model_module": "@jupyter-widgets/controls",
      "model_module_version": "1.4.0",
      "model_name": "IntSliderModel",
      "state": {
       "layout": "IPY_MODEL_ee4192f14989487a8778ce3210ff67ab",
       "max": 5,
       "style": "IPY_MODEL_770d7cf6490c4f27b89364fa0bbeb956",
       "value": 1
      }
     },
     "a11656627a8f460d8ab5b39aaadfca2f": {
      "model_module": "@jupyter-widgets/controls",
      "model_module_version": "1.4.0",
      "model_name": "IntSliderModel",
      "state": {
       "layout": "IPY_MODEL_077b39247e63433eaac2ae6e28444f0e",
       "max": 5,
       "style": "IPY_MODEL_a79cdf7fa3014356ad6cb7a7fc3ac19f"
      }
     },
     "a116bbce7e1d40e8bf1a2147ca3a0669": {
      "model_module": "@jupyter-widgets/controls",
      "model_module_version": "1.4.0",
      "model_name": "SliderStyleModel",
      "state": {
       "description_width": ""
      }
     },
     "a73057f242254b3eae58017163bf94cf": {
      "model_module": "@jupyter-widgets/output",
      "model_module_version": "1.0.0",
      "model_name": "OutputModel",
      "state": {
       "layout": "IPY_MODEL_5d8bb305684d44b0b811007739cb11a0"
      }
     },
     "a79cdf7fa3014356ad6cb7a7fc3ac19f": {
      "model_module": "@jupyter-widgets/controls",
      "model_module_version": "1.4.0",
      "model_name": "SliderStyleModel",
      "state": {
       "description_width": ""
      }
     },
     "aa8ce1d2f43c49e7a9afcfaeb1c2de00": {
      "model_module": "@jupyter-widgets/base",
      "model_module_version": "1.1.0",
      "model_name": "LayoutModel",
      "state": {}
     },
     "ad6e76f0e8b34ef895f142801d00cd70": {
      "model_module": "@jupyter-widgets/controls",
      "model_module_version": "1.4.0",
      "model_name": "SliderStyleModel",
      "state": {
       "description_width": ""
      }
     },
     "afbb19f0c5d2438e867074356522314b": {
      "model_module": "@jupyter-widgets/controls",
      "model_module_version": "1.4.0",
      "model_name": "VBoxModel",
      "state": {
       "_dom_classes": [
        "widget-interact"
       ],
       "children": [
        "IPY_MODEL_c65f4f5673d14ae1a3d981dea0a61da4",
        "IPY_MODEL_a73057f242254b3eae58017163bf94cf"
       ],
       "layout": "IPY_MODEL_ff52bb8d755343f0ad2b02be2f7d7b54"
      }
     },
     "b22a097bb01e4fe29bd1f2a182514a49": {
      "model_module": "@jupyter-widgets/base",
      "model_module_version": "1.1.0",
      "model_name": "LayoutModel",
      "state": {}
     },
     "b2e010e03a4d484db77c830b2cc10a3c": {
      "model_module": "@jupyter-widgets/output",
      "model_module_version": "1.0.0",
      "model_name": "OutputModel",
      "state": {
       "layout": "IPY_MODEL_79a3405639bb4f159b59356f0788c045"
      }
     },
     "b3ec82e13efa4e3d99bd3b82a5a3e620": {
      "model_module": "@jupyter-widgets/output",
      "model_module_version": "1.0.0",
      "model_name": "OutputModel",
      "state": {
       "layout": "IPY_MODEL_c26734e8f1d84cd3855c09f39e337bb4"
      }
     },
     "b75e6272a6004df18d1054ce72466450": {
      "model_module": "@jupyter-widgets/output",
      "model_module_version": "1.0.0",
      "model_name": "OutputModel",
      "state": {
       "layout": "IPY_MODEL_337a68f945554e36ab87aeb91d20f1e0"
      }
     },
     "bad7ef750871436d91820947b8fe8a4c": {
      "model_module": "@jupyter-widgets/controls",
      "model_module_version": "1.4.0",
      "model_name": "SliderStyleModel",
      "state": {
       "description_width": ""
      }
     },
     "bca19022a1414584a39ee3685ebd4f31": {
      "model_module": "@jupyter-widgets/controls",
      "model_module_version": "1.4.0",
      "model_name": "IntSliderModel",
      "state": {
       "description": "n",
       "layout": "IPY_MODEL_eb1310e73af54f20a53e7b50d6ded9e0",
       "max": 67,
       "style": "IPY_MODEL_ad6e76f0e8b34ef895f142801d00cd70"
      }
     },
     "c26734e8f1d84cd3855c09f39e337bb4": {
      "model_module": "@jupyter-widgets/base",
      "model_module_version": "1.1.0",
      "model_name": "LayoutModel",
      "state": {}
     },
     "c5b073a398b74835838af8fb3716f71b": {
      "model_module": "@jupyter-widgets/output",
      "model_module_version": "1.0.0",
      "model_name": "OutputModel",
      "state": {
       "layout": "IPY_MODEL_e4d9655682a34433ae82cb2121f6c972",
       "outputs": [
        {
         "data": {
          "image/png": "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\n",
          "text/plain": "<IPython.core.display.Image object>"
         },
         "metadata": {},
         "output_type": "display_data"
        }
       ]
      }
     },
     "c65f4f5673d14ae1a3d981dea0a61da4": {
      "model_module": "@jupyter-widgets/controls",
      "model_module_version": "1.4.0",
      "model_name": "IntSliderModel",
      "state": {
       "description": "n",
       "layout": "IPY_MODEL_2cdc13884c17444a9193a908620ac90f",
       "max": 67,
       "style": "IPY_MODEL_f108cf4b0db54b649838b683fe46a713",
       "value": 24
      }
     },
     "c871d20587154ca0917917e86e2d955e": {
      "model_module": "@jupyter-widgets/controls",
      "model_module_version": "1.4.0",
      "model_name": "VBoxModel",
      "state": {
       "_dom_classes": [
        "widget-interact"
       ],
       "children": [
        "IPY_MODEL_bca19022a1414584a39ee3685ebd4f31",
        "IPY_MODEL_c5b073a398b74835838af8fb3716f71b"
       ],
       "layout": "IPY_MODEL_7c08570a71414422bc6e6bc15f8c601f"
      }
     },
     "c9dbc68860ab449b89d4bac08b0371d9": {
      "model_module": "@jupyter-widgets/base",
      "model_module_version": "1.1.0",
      "model_name": "LayoutModel",
      "state": {}
     },
     "cd44cbc517e34f70bbb16c547c30f7e8": {
      "model_module": "@jupyter-widgets/base",
      "model_module_version": "1.1.0",
      "model_name": "LayoutModel",
      "state": {}
     },
     "d0299158e39f43d6aadc98a0d48d44cc": {
      "model_module": "@jupyter-widgets/output",
      "model_module_version": "1.0.0",
      "model_name": "OutputModel",
      "state": {
       "layout": "IPY_MODEL_70499c5fdff04a18bb9d9dcf1bcb508d"
      }
     },
     "d35303be3cba4710b4f31f1792d26e66": {
      "model_module": "@jupyter-widgets/controls",
      "model_module_version": "1.4.0",
      "model_name": "SliderStyleModel",
      "state": {
       "description_width": ""
      }
     },
     "d394bc17717d4c9c8edff8cc30e3bfb1": {
      "model_module": "@jupyter-widgets/base",
      "model_module_version": "1.1.0",
      "model_name": "LayoutModel",
      "state": {}
     },
     "d8aab190fcd4461b8bf739019cad6c21": {
      "model_module": "@jupyter-widgets/controls",
      "model_module_version": "1.4.0",
      "model_name": "VBoxModel",
      "state": {
       "_dom_classes": [
        "widget-interact"
       ],
       "children": [
        "IPY_MODEL_d95ef6e27620434e8032d3aeae95c25c",
        "IPY_MODEL_1ad67d55ae6e4b7397dda6a7b828b870"
       ],
       "layout": "IPY_MODEL_aa8ce1d2f43c49e7a9afcfaeb1c2de00"
      }
     },
     "d8ddf335f4c94448bcf091fe5d0974f4": {
      "model_module": "@jupyter-widgets/output",
      "model_module_version": "1.0.0",
      "model_name": "OutputModel",
      "state": {
       "layout": "IPY_MODEL_d394bc17717d4c9c8edff8cc30e3bfb1"
      }
     },
     "d95ef6e27620434e8032d3aeae95c25c": {
      "model_module": "@jupyter-widgets/controls",
      "model_module_version": "1.4.0",
      "model_name": "IntSliderModel",
      "state": {
       "description": "n",
       "layout": "IPY_MODEL_5e71202c7d784893b849d8f847e934d4",
       "max": 67,
       "style": "IPY_MODEL_96218f58f6e74ffeb1772277a19ae73d",
       "value": 23
      }
     },
     "e4d57432becc4d44ae4597ee9fab7aa0": {
      "model_module": "@jupyter-widgets/controls",
      "model_module_version": "1.4.0",
      "model_name": "VBoxModel",
      "state": {
       "_dom_classes": [
        "widget-interact"
       ],
       "children": [
        "IPY_MODEL_30efe19df3be448db86bc149074247e4",
        "IPY_MODEL_b75e6272a6004df18d1054ce72466450"
       ],
       "layout": "IPY_MODEL_99d8454b8a5b436d95bb55e124c5c7a7"
      }
     },
     "e4d9655682a34433ae82cb2121f6c972": {
      "model_module": "@jupyter-widgets/base",
      "model_module_version": "1.1.0",
      "model_name": "LayoutModel",
      "state": {}
     },
     "e900d0138bb849078f9a141b0dfbbe13": {
      "model_module": "@jupyter-widgets/controls",
      "model_module_version": "1.4.0",
      "model_name": "SliderStyleModel",
      "state": {
       "description_width": ""
      }
     },
     "e986fe2fca7a40deb36cfda421f157f8": {
      "model_module": "@jupyter-widgets/controls",
      "model_module_version": "1.4.0",
      "model_name": "VBoxModel",
      "state": {
       "_dom_classes": [
        "widget-interact"
       ],
       "children": [
        "IPY_MODEL_d95ef6e27620434e8032d3aeae95c25c",
        "IPY_MODEL_45442474e4554d5d88fd24ceb912ec74"
       ],
       "layout": "IPY_MODEL_ef71d22864ba4f6797945cc682ee3ae2"
      }
     },
     "ea5ddf836d4d4c3ca1124fbfbe62fb0f": {
      "model_module": "@jupyter-widgets/controls",
      "model_module_version": "1.4.0",
      "model_name": "SliderStyleModel",
      "state": {
       "description_width": ""
      }
     },
     "eb1310e73af54f20a53e7b50d6ded9e0": {
      "model_module": "@jupyter-widgets/base",
      "model_module_version": "1.1.0",
      "model_name": "LayoutModel",
      "state": {}
     },
     "ee4192f14989487a8778ce3210ff67ab": {
      "model_module": "@jupyter-widgets/base",
      "model_module_version": "1.1.0",
      "model_name": "LayoutModel",
      "state": {}
     },
     "ef71d22864ba4f6797945cc682ee3ae2": {
      "model_module": "@jupyter-widgets/base",
      "model_module_version": "1.1.0",
      "model_name": "LayoutModel",
      "state": {}
     },
     "f049e6e083514932bee21b8e732840f3": {
      "model_module": "@jupyter-widgets/base",
      "model_module_version": "1.1.0",
      "model_name": "LayoutModel",
      "state": {}
     },
     "f0db534045da4326ab43153e1079207e": {
      "model_module": "@jupyter-widgets/output",
      "model_module_version": "1.0.0",
      "model_name": "OutputModel",
      "state": {
       "layout": "IPY_MODEL_380a61b7b9894e2a80965fac1f204339",
       "outputs": [
        {
         "name": "stdout",
         "output_type": "stream",
         "text": "2\n"
        }
       ]
      }
     },
     "f108cf4b0db54b649838b683fe46a713": {
      "model_module": "@jupyter-widgets/controls",
      "model_module_version": "1.4.0",
      "model_name": "SliderStyleModel",
      "state": {
       "description_width": ""
      }
     },
     "f1ed6072bb764dbfa3f9fbc1841573d9": {
      "model_module": "@jupyter-widgets/controls",
      "model_module_version": "1.4.0",
      "model_name": "VBoxModel",
      "state": {
       "_dom_classes": [
        "widget-interact"
       ],
       "children": [
        "IPY_MODEL_d95ef6e27620434e8032d3aeae95c25c",
        "IPY_MODEL_d0299158e39f43d6aadc98a0d48d44cc"
       ],
       "layout": "IPY_MODEL_6e907daf7dcf4df8ac84f87098944d2d"
      }
     },
     "f40ca474a7a345e197460bb812bf9de4": {
      "model_module": "@jupyter-widgets/base",
      "model_module_version": "1.1.0",
      "model_name": "LayoutModel",
      "state": {}
     },
     "f604b5e15723406b8348c41d5a9ce438": {
      "model_module": "@jupyter-widgets/controls",
      "model_module_version": "1.4.0",
      "model_name": "VBoxModel",
      "state": {
       "_dom_classes": [
        "widget-interact"
       ],
       "children": [
        "IPY_MODEL_82339cf271b64b4b86e390a7b805fce9",
        "IPY_MODEL_f0db534045da4326ab43153e1079207e"
       ],
       "layout": "IPY_MODEL_fefac51f61eb48b182384981e9a22416"
      }
     },
     "fcf8a07e2e724a9faf4742294f39fcfe": {
      "model_module": "@jupyter-widgets/output",
      "model_module_version": "1.0.0",
      "model_name": "OutputModel",
      "state": {
       "layout": "IPY_MODEL_b22a097bb01e4fe29bd1f2a182514a49",
       "outputs": [
        {
         "data": {
          "image/png": "iVBORw0KGgoAAAANSUhEUgAAAZAAAAF2CAYAAABAos5TAAAAAXNSR0IArs4c6QAAQABJREFUeAHtnQfcU1Xy94cmYBcFESuigoKIoiI2sKLA2hCx665917bqFnVt2Ov6WsG1YBdFUVhBsQGKBRWRomBDURAFOypIue/5zn9vTPIkeVpy68znkydPbm7umfObOTOnzjTwHImRIWAIGAKGgCFQSwQa1vJ+u90QMAQMAUPAEFAEzIGYIhgChoAhYAjUCQFzIHWCzX5kCBgChoAh0NggMAQMgaoILFu2TH799Vf9onnz5tKoUaOqN9kVQyDlCJgDSbkCpLH6X3/9tUybNk2mTp0qH3/8scyZM0fmzp2rr++++04WLVokS5YsyYGmSZMm0qxZM1ljjTWkTZs2+lp33XWlXbt2suWWW0qnTp2kVatWOb+xD4ZA0hFoYLuwki7idNePkcTkyZNl/PjxMm7cOHn11Vdl/vz5CkrDhg1lgw02EByB7xTWXHNNdRSMOnAYEA6F0Qjv33zzTcbZ4Hhmz54ty5cv1/tatmwpO+64o/To0UN23XVX6dKli41cFBn7k1QEzIEkVbIprtfixYvlueeek8cff1xGjBgh3377rTRu3Fi23npr2WWXXdSwd+zYUTbffHPBUdSHcCzvv/++TJ8+XR3Vyy+/LO+8844sXbpUWrRoIfvtt5/069dP9tprL2natGl9irLfGgKRQ8AcSOREYgzVFQEM96BBg+Thhx+Wn376SdZff3058MADpU+fPjoyWHnllev66Fr9buHChTrSefrpp2X48OHy+eefyyqrrCKHHXaYnHzyyerIavVAu9kQiCgC5kAiKhhjq2YIMH00bNgwueGGG+SNN94QpqCOOeYYNdbbbrttzR5S4bveeustdWr33nuvToF169ZNzjrrLDn44IOFaTQjQyCuCJj2xlVyKeebAAqPPvqodO7cWQYMGCANGjSQBx54QBfEr7/+eomK80BM8AJPrJnAI7zCM7xTBwsGkXJljnH1zYHEWHhpZX3SpEmyww47qBFmV9SYMWPktddekyOOOCLS6wysgcAjvMIzvONIqAt1MjIE4oaAOZC4SSzF/LK2cOqpp8p2222nC+OjRo0SFq1ZoI4bwTO8s07CIj91Ou2004Q6GhkCcUHA1kDiIqmU88lWXHrrn332mZx//vny97//PdKjjdqIi11j11xzjVx++eWy4YYbytChQ3WnWG2eYfcaAmEgYCOQMFC3MmuFwODBg3WahwVnFsovuOCCxDgPgGBqizpRN+rIlBZ1NjIEoo6AOZCoSyjl/J177rm69fWQQw6Rt99+W7baaqvEIkLd2LFFXdnuS92NDIEoI2ChTKIsnRTzxvbc4447ToYMGaK984EDB6YCjZVWWknuu+8+2WijjeTSSy+VefPmyV133WXbfVMh/fhV0hxI/GSWCo7POOMMdR6333679sZTUemsSuIwCa9yyimnCAcgb7755qxv7V9DIBoImAOJhhyMiywErrjiCrnlllt0YZmpnLQSdedEPRsG1llnHTnvvPPSCoXVO6II2C6siAomrWw9//zzsvfee8uZZ56pp8vTikN2vTm1fuONN+rZkT333DP7K/vfEAgVAXMgocJvhWcjsGDBAj2dzVZWzkgQANFINDAjQSDZwjxlyhRZa621DBZDIBII2C6sSIjBmAABeto///yzxo0y5/G7ToAFASLBBoyMDIGoIGAOJCqSSDkfHBQkThSHBNmBZJSLAJiADRiBlZEhEAUEbAorClIwHqR3797y3nvvyYwZMzKJnAyWXARIaNWhQwfZYosthDAuRoZA2AjYJHPYErDyZdasWfLMM8/ITTfdFAnn8dtvv8nIkSNzJEPK2759+0rbtm1zrgf5gQyJ55xzjpx++umKWZi8BFlvKyu6CNgIJLqySQ1nF154oVx77bWaKpYItWHT3XffrYcYs/kgJPubb76ZfSmU/8nZzvkQtvZecsklofBghRoCPgLmQHwk7D00BJiS2XLLLTWIYGhM/K9gcnOQ15yDfNkL+e3atdP86WHzR/kElZw2bZqm0Y0CP8ZDehGwKaz0yj4SNadHzboHocyjQIRX32233SIdIr5nz57y2GOPCdhFYcQWBbkZD+EgYLuwwsHdSv0fAiRXote/0047RQITptL+/e9/C2ln2fVEro6oEViBGdgZGQJhImAOJEz0rWz54IMPFIX27duHjsb8+fM1odPSpUtl4sSJQkiVzTbbTGNyhc5cFgM+Vj52WV/Zv4ZAoAiYAwkUbissH4GvvvpKgwWSEyNsatmypYaM//HHH2X8+PGyzz77yDfffCN/+tOfZOzYsWGzlykfrAiwCHZGhkCYCJgDCRN9K1s427D66qtHConmzZsLoUM4a3H99ddLgwYN5Oyzz44Uj2AGdkaGQJgImAMJE30rW7Px0eOPIuE4CB1ChsB3331Xfv3118iwCWZRGLVFBhBjJBQEzIGEArsV6iPAtBHGcMmSJf6lyL0fcMABsmzZssg4ELACM7AzMgTCRMAcSJjoW9myySabKAoff/xxZNHAUG+wwQbSokWLSPDoY+VjFwmmjIlUImAOJJVij06lmR6CJkyYEB2m8jhhQf2EE07IuxreRx8rH7vwOLGS046AOZC0a0DI9V977bWFU94Y6bDpggsukD//+c96sNHnhQRXX3zxhZx77rn+pdDfwQrMwM7IEAgTAXMgYaJvZSsCrDEMHz5c812ECQmL5ORgJ7QKgRP/8pe/yPvvvy+jR4+WRo0ahclapmxygoAVmBkZAmEjYLGwwpaAla9h3Dt27CgEMfzjH/8YKiKcPGfEQcDCKGb+u+eee/RcyvTp09XRhQqWFZ56BMyBpF4FogEA5y4w3qRsjUpvPxrI/M4FO8EIOrnmmmtqyt/fv7H/DIFwELAprHBwt1LzECBsCAml7rzzzrxv7KOPANgwpQZWRoZAFBCwEUgUpGA8KAL77befvPHGGxqq3M445CrF119/raMPdl499dRTuV/aJ0MgJATMgYQEvBVbFYHZs2fLVlttJd27dxfCqnMS3Eg08m6fPn00+i4n4jmTYmQIRAEBm8KKghSMB0UAwzh48GDd9XTNNdcYKv9D4Oqrr1ZMwMach6lFlBCwhFJRkobxIocccoi88soreu6CnVBHHXVUqlG5//775bzzztOEW2BjZAhECQGbwoqSNIwXRWD58uVy6KGH6nkHMu+l9czDk08+Kf3795cDDzxQHnnkEWnY0CYMrIlECwHTyGjJw7hxCGAo6XnvtddecvDBB8sdd9yROlyYrqLuYAAW5jxSpwKxqLA5kFiIKX1MEqqc3UZHHHGEnHTSSTqlxTmIpBN1JGzKySefrHUfMWKEhW1PutBjXD+bwoqx8NLAOrm/L7zwQrn88ss1b/qDDz6Y2IVkdqHhMAmWSD72gQMH2k60NCh5jOtoDiTGwksT62PGjNEFdXJhkCXw2GOPTYxxxUkOGTJEsx42adJEp6z23nvvNInX6hpTBGwKK6aCSxvbGFTOQPTo0UNjQe20004yefLk2MNAHagLedepG3U05xF7saamAuZAUiPq+Fe0devWujPrv//9r8ybN0+6du2qu7UILBg3gmd2mlEH6kKdiLJLHY0MgbggYA4kLpIyPjMIcCobA3zdddfJ2LFjNcQH213HjRuXuSeq/8AjvBIUEd6pAzHAqJORIRA3BGwNJG4SM35zEPBzePy///f/hEXoDh06yIknnigDBgzQkOw5N4f0Ye7cuTJ06FDdjjxjxgzdBHDGGWfIKaecIs2bNw+JKyvWEKg/AuZA6o+hPSECCHD4cNSoUTJo0CAN+8HCdLdu3eSggw6S3r17a+6MoGJrUTajCvh54oknNEAkZe+77766PRd+7FxHBJTGWKg3AuZA6g2hPSBqCLCmwCnuxx9/XKeJli5dqsmhyDnCi4CNnTp1klatWpWFdSLlTps2TRfAX375Zc3VsWDBAmncuLH07NlT+vXrp6fpbX2jLHDbQyKEgDmQCAnDWCk/At9//73mW3/ooYdk4sSJ8tlnnwmjFYiQ8e3bt5d1111Xp7uIvdWiRQudVmJqqVmzZnrfokWLhKkyXiS9YkqK15w5c2TmzJkyf/58vY9RxYYbbijbb7+9HH744bLrrrvK6quvrt/ZH0MgiQiYA0miVK1OVRDYcccd5aefftLpJNYhGDHw+uijjzLOgJELo5VSxKiCkYTvdDbZZBMdzTCiYf2FabNVVllFXn311VKPse8MgUQgYA4kEWK0SpRC4Nlnn5V99tlHCMxIfKlixMhk4cKF4o84eIcYifgjEpxDqbWUYcOG6S6rZ555Rnr16lWsKLtuCCQCAXMgiRCjVaIUAv7og3zrpYx/qWfU9DsW0Dt37myjkJoCZvfFGgE7BxJr8Rnz1SHA6OO1116Tiy66qOLOA15wUJRFmYRfMTIEkoyAjUCSLF2rmwQ5+vDhtlGIj4S9Jx0BG4EkXcIprl/Qow8f6uxRCDwYGQJJRcBGIEmVrNUrlNGHD7uNQnwk7D3JCNgIJMnSTXHdwhp9+JDbKMRHwt6TjICNQJIs3RTXLYy1j3y4bRSSj4h9ThoCNgJJmkStPhL26MMXgY1CfCTsPakI2AgkqZJNcb2iMPrw4bdRiI+EvScRARuBJFGqKa5TVEYfvghsFOIjYe9JRMBGIEmUaorrFKXRhy8GG4X4SNh70hCwEUjSJJri+kRt9OGLwkYhPhL2njQEbASSNImmuD5RHH344rBRiI+EvScJARuBJEmaKa5LVEcfvkiyRyEWI8tHxd7jjoCNQOIuQeNfEYjy6MMXkY1CfCTsPSkI2AgkKZJMcT2iPvrwRZM9CoFnI0Mg7gjYCCTuEjT+Q415VVv4bRRSW8Ts/igjYCOQKEvHeKsWgbiMPvyK2CjER8Lek4CAjUCSIMUU1yEOax/54rFRSD4i9jmuCNgIJK6SM74jE/OqtqKwUUhtEbP7o4qAjUCiKhnjq1oE4jj68CtloxAfCXuPMwI2Aomz9FLMe9zWPvJFZaOQfETscxwRsBFIHKVmPMdq51UxcdkopBgydj0uCNgIJC6SMj4zCMR99OFXxEYhPhL2HlcEbAQSV8mlmO84r33ki81GIfmI2Oc4IWAjkDhJy3iN7c6rYqKzUUgxZOx6HBCwEUgcpGQ8ZhBI0ujDr5SNQnwk7D1uCNgIJG4SSzG/SVn7yBehjULyEbHPcUHARiBxkZTxKd27d5eFCxfKlClTBKObJLJRSJKkmZ662AgkPbKOdU0Zfbz++uty0UUXJc55IBgbhcRaPVPLvI1AUiv6eFU8iWsf+RKwUUg+IvY56gjYCCTqEjL+ErfzqphIbRRSDBm7HlUEbAQSVckYXxkE0jD68CtroxAfCXuPAwI2AomDlFLMY1J3XhUTqY1CiiFj16OIgI1AoigV4ymDQJpGH36lbRTiI2HvUUfARiBRl1AK+FuwYIEcfvjhMmPGjJzapm304Ve+1CgEjMAKzIwMgbARsBFI2BKw8mXixInSrVs33co6YMAA3arboUOHRETcrat480ch77//vgwcOFCGDh0qfPfGG2/I9ttvX9fH2+8MgbIgYCOQssBoD6kPArNmzdKfYxgfe+wx2WKLLaRnz57y2muvJfbcR3V4ZY9CwKJjx46KDRhBPmbVPce+NwQqiYA5kEqia8+uEQKffvpp5nDgsmXLtIf9yiuv6G+HDRtWZWqrRg+N+U1MVVF3CCxwHGAD4VzAzMgQCBsBcyBhS8DK1950o0aNcpDwjSVGlBHJYYcdlgpHguOgrtTZdyA+Fj5AYGUjEB8New8TAXMgYaJvZSsCn3zySaZ3nQ+JPyJ59NFH1ajecsst+bck5vPNN9+sdaSu2SOO/AqCCZgZGQJhI2AOJGwJWPny0UcfqcEsBQUGdc8995Tjjjuu1G2x/u7444/XOvrrHMUqw/dgZmQIhI2A7cIKWwIpLx9j2LRpU1myZElJJHr37i1PPPGE3lvyxph/uXjxYjnooINk1KhRJWvSpEkT4V7WQ4wMgbAQsBFIWMhbuYrA3Llzq3UeBxxwgDz55JOJdx4AgjOlrtS5FOFwwc7IEAgTAXMgYaJvZVe7m+jQQw/V7av0uNNC1JXtzNS9FNlOrFLo2HdBIGAOJAiUrYyiCJTaTXT00UfLgw8+KI0bNy76+6R+QZ2pOxgUo1LYFfuNXTcEyomAOZByomnPqjUC9KIbNqyqhieccIIMGTKk4He1LiSmPwAXMACLfOI7G4Hko2Kfg0agassNmgMrL9UI0IvOdyCnnXaaDB482BaInWawSA4WYJJNYGYjkGxE7P8wEDAHEgbqVmYGgY8//liWLl2a+XzOOefITTfdZM4jg8j/OREwARufwAzsjAyBMBFI3+RymGgnpOwff/xR5syZo7uAiAr766+/yqJFi/SdQ27NmjWT5s2b6/uqq64qbdq00dfaa69dZbSRbQTPP/98ueyyyxKCUvmrce211+ourcsvv1wfno2dX9ry5cvlq6++UtmwSwtZ+bLhnVPsvmx4X2uttVQ26667riArI0OgNgiYA6kNWim7F+NDQMMpU6bItGnT9DVz5kz5+eefCyLBdAsGKntEkX0j322wwQbSqVMnfRGuw9+Keumll8q//vWv7Nvt/wII4GBx0BdccIFi98ADD8h7772Xkc/s2bOLnupnYd4/2V/g0bLSSitJ+/btM/Lp3LmzdO/e3RxLIbDsmiJgBwlNETIIcLbghRdekOeee07GjRsnkydPVoPDttLNNtssY/TXW2+9zKiiZcuWsuKKK6pR4wwDhJHyRyXff/99pjeMs+AENc5o+vTp8u233+r99Hz79OkjPXv2lD/84Q+yzjrr6HX7k4vAl19+KSNHjpSxY8fK008/raML7mjRooVG68Uxb7LJJhnZMPJbffXVMyNCHDjEAURGI7/88ovMnz8/I58vvvgi44w++OADPZ/Db7p06SI9evSQvfbaS/bYYw9J05ZqBcz+FEXAHEhRaNLxBaMFjBGB+zBOP/zwg05r7LrrruK/MEyVMBqUSdn0fMePH6+OBdTJQtivXz89B5F2Z4LTeOSRR+Txxx+XV199VZUSeSAbRoI43oMPPrjsykpnAkePXPwX05WrrbaaOnnKpOw0brEuO9hxfqALJWGUQgTcVIfnpow8Z6BJMOFtvPHG3tlnn+1NmDDBc/PogSDiesE55bgesOeCJXq777675wyTvpwj8dyIKDCechgK6QP4U2fq7uMAJmADRtmUj2H2d+X8H57QDXQEXUFn0B10CF0ySicCBLEzShECbg3DO+KIIzw3NeG5uXTPHVRTwxA1CObNm+ddeeWVGWPl1ks81xP33PRY1FgtGz/UjTpSV9+pg4FbFC9bGeV6EM4E3UGH0CV0Ct0yShcC5kBSIu/PPvvMO/LII7Wxu503apzdGkTka0/P1wUW9HbaaSc1qhjX4cOHR57v2jJInXzHQV1Hjx4di1EXOoSTQ6dwJOgYumaUDgTMgSRczr/99pt31VVXeW6h23OLrd7VV1/tLVy4MJa1fv755z23PqKOZN999/Xcgnws65HNNHWgLow4qBt1jCOhU+gWOoauoXPonlGyETAHkmD5ul1U2qt122s9l2vCc4ugiajt/fff77kzJTp9cv3118eip54PPCMreGcKqHXr1h51SgKhY+gaOseICh00Si4C5kASKttbb71VjdOmm27qvf7664mrpdse7LnkUtpzd7lCPLcdNTZ1hFd4ZtRBHahL0gidQ/dwkOiiUTIRMAeSMLkybcA8NMaJRc6ffvopYTXMrc7QoUM9t7XUc2dTvKlTp+Z+GcFP8Aiv8AzvSSZ0Dx1EF9FJm9JKnrTNgSRIpjRYd9hLFzMHDRqUoJqVrooL6eG5g46eOzTnuQOQpW8O8Vt4g0d4hee0ELrIAju6mfQOTVpk6tfTHIiPRMzfWcTcfvvtdQHTHQiMeW1qzz5z7y7shudOw0dyIZrFcXiDx6SsRdVGSugki+vdunWL7SaO2tQ3LffaSXQ3vo47cWqYECCEH3n22Wf1lHLc61QX/gnNsffee2vsLsJ9bLPNNnV5TNl/M2nSJA3TQmypMWPGaOiXshcSgwdyor1Xr14aFoWoB5WIbhADGBLFojmQBIjTLcTKvffeK0888YTst99+CahR3atA7C3CfHz99dfy9ttvC1FmwySiFnft2lVatWqlIUGITZVmGjFihBx00EFyzDHHyF133ZVmKBJRd8sHEnMxPvzww3L33XeL2xKaeueBKDHQ7uChRgQ+6qijxG2XDU3ClA0PxBuDp7Q7DwRBBwddRWfRXaOYI5CWubok1pMTv+zm6du3bxKrV686uZ6u7v7hcFtYRNnOPHjwYpSLADqL7tqp9Vxc4vbJprBi3AE47LDDdE6dHB0kBjLKRYBc4g899JCGkA86qi9RdAmtfvjhh8t//vOfXMbsk7iNBJp7hDUrG4nEVyFsCiumsnvrrbfEnSPQJEzmPAoLkeRLbvuoXHTRRYVvqOBVyqRsy7BYGGR0lgRi6DC6bBRPBGwEEk+5yf7776+7jRh9rLDCCjGtReXZHjhwoPD69NNPhURYQRCJmTbaaCO58MIL9RVEmXEswx0s1FEIu9OeeuqpOFYh9TxbStsYqoALda6LsvRuo+Y82ErLgjH5uullskMsTDr55JN1FMAuNXKuB0GU1bBhQ6HssMlF+S26kYAsk1tuuWVoLKK7YMRIBJ12McFC48UKriMCcVu0MX4979prr9VEQ26ePVJwuG3Ensup7d1www2eS2kbGd5IzOTWIwLjh7IoM2xy5y50Ed+ZhoLv99xzT9gseugwSbPQaaP4IWBTWHV0vGH+jIVHhv8closKuYRC8uSTT8orr7wiW2+9dVTYUj5YpGUx+5NPPpG2bdtWlLdZs2aJy9ini/dscgiTXBwqcRFxNY/5KquskmFlxowZ0r9/f3GJqjSfeuaLkP7p2bOnjqQ5ZGkULwRsCite8tLpiDfeeENOPfXUyHDOvn52O7G3P2rOA5BcgibFipzilXYgft7ynXfeOVT5cPZkl112EXai5dNjjz0mu+22WyScB7whH5euV3WbqT+j+CBg0oqPrJRTFs1//PFH2WGHHSLBOQbzn//8p7g4XPLHP/4xEjzlM7HBBhsI23jffPPN/K/K/pkyKGv99dcv+7Nr80A3LVTQefAMHIibYqvN4yp6L7qMTqPbRvFCwEYg8ZKXuINXynHYITp82C699FI9aT1gwAA97+ASCEnLli11iqRjx47+baG/g5ePXSWZoYyoyKZQPTHS06dPlwMOOKDQ16Fc8/ECu8033zwUHqzQuiFgI5C64Rbar3744Qcte8011wyNh+yCJ06cqB+ZV3cni3X7qsuup4EMH3nkkexbQ/0fvHzsKskIZURFNoXqOWzYMJ0ychkdC30dyjUfryDkE0oFE1yojUBiJtxly5Ypx1HYvvvhhx/Kt99+q87ijjvuyCDZp08f2XbbbeUvf/mL7LPPPpGIAQVebmdYhsdK/YN8oiCbYvVj+ipqU40+Xr5uF+PdrkcPARuBRE8mJTlaeeWV9ftvvvmm5H1BfDl79mwthoNg2cTOH5c8SJ1LVE4Zg5ePXTav5f6fMqIgm0L1wuFPmTJFo+EW+j6sa4Q1gYKQT1h1TGq55kBiJtk2bdoox4QrD5vYrgq5ZFZVWPEPqH3++edVvgvjAnj52FWyfMqIgmwK1ZHpq+222y70Bf583lyOeL0UhHzyy7bP9UPAHEj98Av81/Tu2WHzzjvvBF52foHsblpppZWEbcX55M9rb7jhhvlfBf6ZHT6cAdlqq60qXjZlUBZlRo2itvvKxwddRqfRbaN4IWAOJF7y0mx2Xbp0kQkTJoTOOcECzz77bGGUMXfu3Bx+WFwnlAk93rDptdde0zMGO+64Y8VZoQzygFBmlIjQMhhqkjlFjdBldNqlvI0aa8ZPNQiYA6kGoCh+TcY9TqEvXrw4dPb+/ve/S4cOHTRJkM8Mi9WkLyVWV/YJaP/7oN+feeYZ3SGWv1ZTCT4og91olBklYvQBb4SYjxKhw+gyOm0UPwTMgcRPZnLkkUfKd999pylsw2afKazXX39do92SfY9T6RxSu/jii+Wkk04Kmz0N+fLAAw/IoYceqtMklWaIqRjKokzCzUSFWP+I0uFBHxfSMKPL6LRR/BCwWFjxk5lyTMgQerr03qJCLKYzlbXppptKgwYNIsGWHweLdRpOywdBTN9169YtEvGw/Pq+++67GsZl1VVX9S9F4p04WJz/iMKaXiQAiRkT5kBiJjCfXXq49PifffZZIbiiUVUElixZIpyG59Dcyy+/XPWGCl4hDhXBCjn13aRJkwqWFN9HEzyxV69ewsFTG4HEU47mQOIpN12o7dq1q77Te7MgdFUFefPNN8vpp58uxOvq3r171RsqeIVFdBbUb7rpJjnttNMqWFI8H81GA0bR6O2kSZMiM2KNJ5rhcW1rIOFhX6+SaXisN0ydOlWuuOKKej0riT9m1xGJiojRFbTzAE/KPOSQQ5QHtvUa5SKAzqK76HBUpjtzObRPNUHARiA1QSnC95x55ply6623yrhx47THG2FWA2ONqStChLMew9y/fyYlMAb+VxAn0jkXwgE5tqraVNb/AcOIsEePHhrq5sYbbwxaLFZeGREwB1JGMMN4FNsgWRzGWGGkonBwLwwcsss8/vjjxWXbk+eee05233337K8C///FF1/UsC7En7rzzjsDLz9qBRJxF+eOU2ezQdOmTaPGovFTCwRsCqsWYEXxVhrgyJEjlTUW0/2wEFHkNQiezj33XLnrrruE9Y+wnQf1hQfWQeAJ3tJM6Ka/4QOdNeeRAG2IXxZe47gQAm4+2Vt99dU9d1jMmzNnTqFbEn/NrXlo7m/eo0ZR5i0IrNBJdBMdRVeNkoGAJKMaVgsQcJFvvVatWnkuRpXnto+mBhS35uEde+yx6jzOP//8yNYb3lyfU3mF57QQuohOopvoqFFyEDAHkhxZak0++ugjr127dtrTc6ePE1a7qtX54osvPLcg67ldaZ7bTFD1hohdgUd4hWd4Tzqhg4w60El00yhZCJgDSZY8tTZurtnbd999tbd74okner/88ksCa+l5Tz31lOcWYz2XQtdzsadiU8fRo0crz/BOHZJI6By6x4gLXUQnjZKHgDmQ5MlUa+QOannXXnut57aOem3btvVGjBiRmJrSc3dnLNQ47bbbbp7brhu7usEzvGNgqUuSRiPoGjqH7qGD6KJRMhEwB5JMuWZq5TLQeTvvvLMaqr59+8Z6bcTF2vKuvPJKz2Wu89ZYYw1v0KBBnkuDmqlr3P6B99tvv13rQp2oG3WMK7HWgY7hFNE5dM8o2QiYA0m2fLV29ADvvvtur3Xr1p479ev1798/VjthfvrpJ++qq67SaR/WD9yZCs9l/UuM5KgLdaJuTMddffXVHnWOC7GrCp1Ct9AxdM1GHXGRXv34NAdSP/xi9WvmpW+44QbPJXrSXuKee+7puTwRngs7Hsl6TJs2zXOxrHQRFuN6xBFHeDNmzIgkr+VgirpRR+rKwjN1B4MoEjqD7qBDjDjQKXQrqettUZRBFHgyBxIFKQTIgwvy57kkT97+++/vuTAb2vhdtFrvjDPO8Fw4lNCnhNxJZc+Ft/BcIELlzYWs91wwQm/mzJkBohRuUTgS6kzdMc5gASZgEyYx5YaOoCvoDLyhQ+gSOoVuGaULAXMgKZI3Ddzlg/C22WYb79tvv9Wac+24447T3UwYBKZQOFPhQoF4LiBhxdFxucN1B9V5553nuejCapRcqlzP5Ynw3Olt7+eff644D1EtgLqDAViACfIBI7Bi1xnYVZrQAXQBnUA34IHdY+iM7zDQJXQK3fKvVZove340ELBYWK5FpIHIGkjuBVKaPv/88+IWoXOqvXTpUg3ISIY48jS4Pfv6/brrrivOOEinTp30tfnmm8t6662n+c5rE0XVTW1ocMMPP/xQc2S4qRlxi6z6cj1bIdERaU1db1Zfzljl8Jf2D4QBcVt+9UW6YOc8hJz0pKnlhXzIfUIyL4I31ia/uDNFsmDBAnE7weT9998XZMOLMOvuBLlCj94QhoSc6u4MS5XsjmQVdNNZqjfkqNlhhx3SLrJU1N8cSArEXJ3zKAQBkWwxVK+88ooaeQwKRsKnFVZYQdyCqbjTxdK8eXN9NWvWTI3aokWLhBe50b///nv58ssvNeuc/1ui0m622WZq9Mjch+Po0qWL/ta/x96LI4DDnTx5ssqHTIvI5oMPPhCiEPtEtkocCe/IB9nw4re+bJCPW8CXefPm5aTfpXOBQ8Ixud1UKh+eVR2ZE6kOoeR9bw4keTLNqVFdnEfOA7I+4FTcWoT2SvmfFz1XDBGvWbNmaVRgEgVhrDBcjCzWWWcdNWYYIXc+QNq3b2+hzbNwLce/OA9kgwx82eC4GakgG5wGiceIgosMfKfvFr8zsmG0iWxq4iyK8WxOpBgyybxuDiSZctValdN51AQmEjgNHjw49RGBa4JVGPcwLXjSSSfJZZddVtHizYlUFN5IPdzCuUdKHOVjJmjnUT7O7UlxR4ApMNbZWDdh3Q1dNEomAuZAEihXcx4JFGrMqmROJGYCqyO75kDqCFxUf2bOI6qSSR9f5kSSL3NzIAmSsTmPBAkzIVUxJ5IQQRaphjmQIsDE7bI5j7hJLD38mhNJrqzNgSRAtuY8EiDEhFfBnEgyBWwOJOZyNecRcwGmiH1zIskTtjmQGMvUnEeMhZdS1s2JJEvw5kBiKk9zHjEVnLGtcdjsnEgyFMEcSAzlaM4jhkIzlnMQsJFIDhyx/WAOJGaiM+cRM4EZu0URMCdSFJrYfGEOJDaiEg0JUSoke4yqYqwaAoqAOZF4K4I5kJjIz0YeMRGUsVlrBMyJ1BqyyPzAHEhkRFGcEXMexbGxb5KBgDmReMrRHEjE5WbOI+ICMvbKhoA5kbJBGdiDzIEEBnXtCzLnUXvM7BfxRsCcSLzkZw4kovIy5xFRwRhbFUfAnEjFIS5bAeZAygZl+R5kzqN8WNqT4omAOZF4yM0cSMTkZM4jYgIxdkJDwJxIaNDXuGBzIDWGqvI3mvOoPMZWQrwQMCcSbXmZA4mIfMx5REQQxkbkEDAnEjmRZBgyB5KBIrx/zHmEh72VHA8EzIlEU07mQEKWizmPkAVgxccGAXMi0ROVOZAQZWLOI0TwrehYImBOJFpiMwcSkjzMeYQEvBUbewTMiURHhOZAQpCFOY8QQLciE4WAOZFoiNMcSMByMOcRMOBWXGIRMCcSvmjNgQQoA3MeAYJtRaUCAXMi4YrZHEhA+JvzCAhoKyZ1CJgTCU/k5kACwN6cRwAgWxGpRsCcSDjiNwdSYdzNeVQYYHu8IfA/BMyJBK8K5kAqiLk5jwqCa482BAogYE6kACgVvGQOpELgmvOoELD2WEOgGgTMiVQDUBm/NgdSRjD9R5nz8JGwd0MgHATMiQSDewPPUTBFpaOUtDiPk08+WcaMGSPZ6vPDDz/Izz//LG3atMkRduPGjeWVV16RtddeO+e6fagMAl999ZXsvPPOsnTp0pwC5s6dKyuttJKsttpqmesNGjSQvffeWwYNGpS5lqR/vvvuO9lzzz3lo48+kmeffVZ22GGHJFUv9Lo0Dp2DBDGQFueByLp37y6DBw8uKL1PP/005/r2229vziMHkcp+wFG3aNFCJk6cWKWg3377TTCq2YQsk0r+SAQn0qtXL3MiZRa0TWGVCdA0OQ8gO/DAA6VJkyY1Qu+oo46q0X12U/kQqCnmyBBZJpl8J7LJJpuoE6GtGpUHAXMgZcAxbc4DyFZddVX5wx/+II0aNSqJYMOGDaV///4l77Evy48AmIN9KUJ2yBBZJp3MiVRGwqU1rDJlxuqpy5Yty5nnz2c+jc7Dx+CII44Q8ClGGKjdd9/dpq+KAVTB60xjgX0pB4/skGFaqDZOhLW9UrqdFsyqq6c5kGoQeuihh+SUU04p6ETS7DyArXfv3rooWwzCtBmoYjiEdb06B8+COjJME9XEieA8aPO0faNqEHBgGRVBwBlAz82bskvNO+mkk7zly5dn7nzttdc8N/T3ttlmG+/bb7/NXE/bP8cee6znermKEThlv9z8uud2ZqUNksjUF+yRQbZM/P+RGbJLK9Fmabu0YdqyT7Rx2jo4bbrpph42wKg4AvSsjYog8Nhjj+U0Pt+JmPP4HTC3NTIHo2wD5RZnf7/R/gsFAWRQzMG7bdih8BSVQvOdSLbz8PUYG2BUHAFzIMWx8bbcckvPLUTmGEi3OOmtssoqqR95+LC5swae2zKag5Hf+IYNG+bfZu8hIYAMfHlkvyMzZJd28p0IbZq2nY0RbR8bYFQcAVsDcRpTiEaNGiVTp04V1yvJ+dr1SKRdu3by3HPPCfOpaScWaZlr5z2bmF/v06dP9iX7PwQEkAGyyKZiMsu+Jy3/04Zpy7Rp2nY20faxAdgCo8IImAMpjIsMHDiwilH0b508ebKcd955BRfW/XvS9H7YYYfl7FjBQB188MHSrFmzNMEQyboiA2SR7eDZ3IDMjNxCh1swpy3TpgsRuGELjAojYA6kAC4vvfSSvPHGGzlGMf82TmEX252Vf2/SP3OSef31189UEwN1+OGHZz7bP+EigCyQiU/IKsmnz/16VveO86ANF4uowO/BDVuATTCqioA5kKqYlBx9ZN9uTuR3NI488sjMwTXCaOyxxx6/f2n/hYoAskAmEIcLkVXaqSbOw8fIRiE+ElXfzYHkYUJvY+zYsTk9trxb9KN/yveZZ57RedJC96TpGr1cf72I/7OnTNKEQxTriiz8ESEy8v+PIq9B8cTaxujRo7U4vy0XK5tRCDYB22CUi4A5kFw8qh19+Mq28cYby7333qtRPjt37pz3lPR97NSpk3To0EErbvPr0ZO/LxNkhKzSTrTZjz/+WNswbRny23YhbHDCl156aaGvUn0tMuHcGVLOmjVLpk+fLrNnzxZCT/P68ssvNUT4r7/+KrwWL14sK6ywgi7QNm/eXFZccUVp1aqVhhAnjPh6660nW2yxhWy22WY1Dvbna8C7774rXbp08T/mvKNA9ERofBdeeKH069evpMLl/DgBH3755Rd57733ZObMmTJnzpyMfBYsWKByQTZc//7776V9+/YqFxZwibOEXPzXRhttpBjmh3xPAEShVoG2Mm3aNCESst92eP/xxx9l0aJFgvyQ3eqrry7rrruu0HZ4rbXWWhnZcB3Z0X5oV2khRmWPP/64dh7B0G/rherPYvtWW21V6Kui15YsWSIffPCBtp8vvvgiI5+vv/5a5ULbQUZESm7atGlGNuyeW2eddTLy2WCDDaRjx47Stm1bIQx/FCg0B4Jyjxs3TsaPHy9vv/22gksuCZ/WXHPNDHArr7yygopB4gXQAA7w/Ib8BzyPd38ahSijNAYcwi677CI9evTQz/7zC70fcsgh8sQTT+RMX/nKREhyHEcatqbiKGkoyIc8HlOmTFHnno2tr9gtW7bMOAsayowZM2TrrbdW2SAjHIpv0DBmPjEnjzMGV2RD/gqMm1H1CIApckE+hGzH6LnzDJkfZjttMKXN4CzeeecdHSXSNnynMn/+fJUPHTXkB9ETx0jRS0cuyId2RFtIOj399NPqSMDVb/t+nfl80EEHyaOPPupfKviOo0Y2L7/8srYjPmdjS5wyOlC84ySQDTKiY4xcfNu2cOHCTNv55ptvMmXxG5x8165dZdddd1X5hNUhC8yBYHzcCW719CNHjtSpHxBhxMCOEIwJL9/DAmZtCcNHL5hRDI2KdxTh/fff10chsH333VdHD3vttZd6e78MhLz55ptntub6ykPjwXEQmC7JhFFCLjjQF198UXuuJILCGbiQDxnZoLiM+Ir1gHhOMUeAsyexjy8bHBM6gfHDaGGk9t9/f5UPemD0OwLoMr3kp556So0S7QknTNvB0IMX7YeQ5fnnPvynlJINMwD0iBll+u1n0qRJ6nRITIVTog1gQIngW0zGfllxf6cNsH0XR+DbAuqE3mNP6Jz6xKwIZ0mQD+sqdGQh7AkdJF82vDPK43m1JTrN/gwN7YcXbYcRDeTCrkjfvn217aATpabjalt2yfud4lSUnEJ6Z5xxhte6dWs95ekUz3O7QLwhQ4Z4n3zySUXL9h/uGobnhOudeuqpntvCqHxw8tQdgPOcguhtRx99tF53wOu7czQ5MXL8ZyXp3fWKFBfq6sdMckbIO/fccz1ClPz0008Vr64zhJ5zJN4tt9ziOcPkuZ6Y4u8aqOfmnD03eqk4D1EtgLqDgZuOVUzABozACszArtKEDqAL6AS64YyJ6go6Q5tCh5JMhC2irtTbtw3HHHOMVhnbgQ3BlvA9tgUbAy7YnCAIG4otxaZiW+EDW4vNxfZWmioSysSNBDxiyLjeu1aIgGUnnniiKqLzpJWuU7XPd6MS75///KfnegPKHwETXc9CX+7QleeG+tU+I843uB6S50ZVnhv2av0xDFdddZXn5mlDrxYGa+jQoR5ywKm5UZD+76Y6Q+ctKAaoK/Wn7mDA/2AShEOvro7oCLriOxN0CF1Cp5JM2ATk4NsJP8gqNgRbgk0Jm7CtOHtsLTYXZ4INxhZjkytBZXUgMPnII494bppDmXdzdN5//vMfz83lVYL3ej+TWEBuSsDbcMMNlV+37uLdcMMNnltwrPezo/gAekV/+9vfPLdAqj19Rl0TJkyIIqvKE0bpyiuv9Nx8vMpnt912y4wYI8t0PRijR0sdafjUmbpH2TCjO+gQIyN0Ct0KquddD5jr9FNsArYBG4F8sBnYjqjGE8PmYnuxwfCLTcY2l9uRlM2B0Gsi8BjMuoU3z80J1klQYfzILSB6bk7Rc4voOkxlCHj//feHwUpFynRztN7ll1/uublxzy3Y6fA2TlNDNNL77rsvM5XjcltHYrRULmHRq6dOtB2mq6hrVA1ToTqjS0yZoFvoGLqGziWFsAXYBKawsBHYCmxGXAhbjE1Gv9x6mVfO0Xy9HQg9DuYEGdoxrH3++efjgmtBPt0CorfPPvso2D179gxkHrEgI2W6+MILL3isJ6D8DG3jpPj5EGBU3dkbbcxuu6NOnbidePm3xeYzvDP9Q10wUNSt3D3EIMFAt9AxdA2dQ/fiTKwhYAMwvNgEbEOcCduMjcZWH+tywZRjtFgvB4JnczubdBHp+uuvT9SCmtuN5Ll91zo8v+2222KnN/QA//rXv6ryb7vttpGYoy0XiCRKOvPMMzXPBT0qtyumXI8O7DnwDO9uR47WJUmJt1gPQOcwvOhgHEcjtHmm5rAB2IKkEJsesNUs/NNpqe9MUZ0cCL0kF8FSexpuy5jntpclBd+cerhzC7q7gYbgDg7GJrseOzNowBiniy++OFbTITkCqOYDO2TcwUSdNmEnSlwIXpnqgXfqkERitIjuoYPoYlA7LuuLJY6ctk6bZ2cTNiCJhM3GdjNaxJbXdeRbawfCsNvtBddhEAUnfRsfysPUAouE9BjdOZNI69Nbb73luXMausOsnHOdUa20O9ugu2No8P/617+iymaGL3iEV3b0wHvSCR1kpxI6iW5GmWjbtHHaOm0+6YTtxoYzpYVNr8t0cK0cyHfffee5U92eO+TnPfDAA0nHN6d+LpCa505d6+4Ld9o657uofCBFqTu1r5sZ3AGjqLBVcT44D8E5BQzzn/70p0iOuOiRwxs8wmuaCF1kgw26GdU0urRpdlbRxmnraSJsOTYd217bTk2NHQjeiZV8lCDuC+V1VQ53itpzgdc8d3rec/G66vqYivzOhU3QOVv2fddWCSrCUAgPZd6a3tQJJ5wQQumli4QneIvjelrpmtXsW3QS3WRdAV2NEtGWadO0bdp4Ggmbjm3HxtdmJFIjB0LvyYWYUC9V30WXuAuHuVwXB8pzYQo8F58mEtVxoan1FOp2220XicNmYYJy4403ai//ggsuCJONnLLhhZEHvKWZOAiJjnJiGp2NAtGGacu06bis01QKN2w7IxFsPTa/JlQjB3L++edr78kFEavJMxN/j4va66222mq6dz+IcBKlAGXRj54T2yZdYLxSt6bmO+Z1MdjDhg0Lvc7wAC/wZOSpjqKr6GzYC9S0Xc7f0JZp00aeh41npIzNrwlV60A4HctKPadMjX5HAKAxDJxODZPYKcK0QFR6dGFi4ZeNYXDBMj0XbND7/PPP/cuBv1M2PMBL2B2NwCtfokB0FZ1Fd8Mk2i5t2DrGuVLA1mPz/TiBud/mfirpQDi+zz5ohp1RiGGVy3r4n5jXZsjnIvmGwgz702kAaZ1XLwU6h9rY+UMPMyyibHiI8+HNSmGHzqK7YZ2xoM3SdqO4XlYpzGv6XGw9Nh/bX11Yp5IOhFg8eCKXG6KmZafqPobgGAi2wAVNCNmFcPZ23HHHoIuOTXlsxcRIEWAuaKJMyk7DdtC6YovuosNhdE4PPPBAbbthT6PVFbtK/w6bj+3HB5Siog6ExSXmBjnyblQcAb8n9eqrrxa/qQLf3HrrrWqgknoQrRyQcTjK5TPxXAa5QKeQmK6iTMqu6wGtctQ/6s9Ad3Gy6HKQRFulXBu5l0Yd248PKLVZqKgD4bg7Huizzz4rXUpA33LIB4Gzh558CFGZFuAwDnkADj300ICQ+L9iCLrnsiMGWmaxwtixQWRSTh7fcccdoU3pFeJvxIgRaixeeumlQl9X5BplYaAoOyxia2qpSMvsiHryySc1rAW5RcIidBhdDpJoq7TZMA9BVycf8KAjwvpMWOtn2H58AL6gGBV1IC57liZSKfbDIK8/9NBDnsuKp1MROJLrrrvOc7mca7TIEwSffkA8l1kviOI8l85UDRQGIGxi55dLq6lDXQ6aEkCPLZF333132Kxp+Tg3TkIfddRRgfFDWZRZ062Q5WSMyLgkNSJAY7GtzDg4zj1wgIxIwAMGDNAos2EYKnQYZ4tOB0G0UT8QZxDl5ZdRE/kgB5JS+dHNwxzFkkwLX1CMCjoQtrQhVBKRhE1EjGTHBiGus4k5TACOAn366aeK15133hkIO3/+8591/jbMHpRfUYwlOQeyCYeP/gTZ688uP/9/Rq2EpwgiqB9lUFYYp80XLFjgjRo1Sp05+BdyIJx1IKcFIdd9YjTC2YxC9/v3VOodHWYdEZ0OgmijYEObDZpqIh94IvwLDrVdu3bKa5gOBB8AXsVGqQ3dl1XIMa+5f/fYY48q3wV9gRzNfpL57LI7dOggboiVfSm0/10IBM1JDG5BEOW4xENCzvIwyW1TFdeLFTcCyWHDnWbVz+SUjgK5bbTidpMIOb4rTZRBWZQZNDnHIK7HqLnLi5XtHIfmu3dh1zO3uBPI4ua75eqrrxY3isxcD+IfdBhdDqrtuFPw2lZps0FTTeQDTy6kiOy0007ipvaCZrFKefgAdy5EwK0QFXQgbpFJXAYrWWONNQr9JtBrJKVHwd1CmzoSv/Dhw4fLfvvt538M/R2Bg1ulye0aEZfQRhWs0mVV93z4cB0mcQttObe6+WVxYf7FjUDUWOV8GcKHbt26qbMNQj6UgVGkzKiRm1IT2o1LxypuCjiHPbdtU9xuKHE9zpzrQXyg7aBL6HalyS3ci9/BqXRZSXg+PgBfUKztFHQgCNNFpYxE/V2WM3GJ68UNobSn6wKzyT/+8Q9xobDl5ptvjgSPMAFeH374obgpjIry5PJIiJsjjYR8XHwjrSv6kk9dunTRS2ASNrkpJXHTAWqkKs0LWGCgKTNq5KavxK0BaNvJ583vkbtcHvlfVfwzbQedRrcrSbRN9DEqtq2SdS3ns8GrUBunjIIOxO1wEheVspw81OtZLoaQ/OEPf5A333xTG6dbuJXRo0eLm7et13PL+WPwojfucliX87FVnoVsoCjIx8UQUl4KGR23e0O/C3uaTZn4H14+dv61SrxTRn7vvhLl1OWZ8+bN058xos8nl59EL7lNKvlfVfyzr8uVlg9tkzYaVflUHOg6FgBexWRT0IEwh+tCMNSxuPL/zC2iy0UXXSRMjdCLcIezxO3EKn9B9Xiij9fPP/9cj6dU/1P/+X551f+icncwymD+2m1JFLdrJFOQi2gqbiOGNGnSRHwnk/kypH/Ay8eukixQRhRkU6iOCxcu1Mu0p3xyO5P0UqVH0Pnl8tnHC7tTSfLl75dXybKS9GzWborJpuAqLL1GF9I3Mhi4rX7i4rPoQo6LoyMuB7t+ppd71llnRYJPFvohjGYlyX9+VOTz4IMPyiGHHCJub73O+zMqxGm4II/67sJFVBKOGj8bvHzsavyjOtxIGVGRTT77bmuxXirkJHzjyuaUoMnHq9KjVf/5flsNup5xLQ/5+Njl16HgCISFE3f6MP/eUD4z5Dz99NPl73//uzBP27dvX3n99deFxuCO2Yvb4hYKX/mFui16eqnSGw/850dFPu7Mhzp25tfdgSN55JFHdK0Kg4SjjwqBl49dJXmKUtvJrycjeKjQYrXbyqvfuT3/+h7kH1+XKy0f//l+Ww2yjnEuC7x87PLrUdCBsEDNtEQUaOzYscJ20exdLS5+jpxyyilCxfg+CgSPLlG9MNyrJCEbiPKiRBgnZMRUyGWXXaajj9NOOy0yLIKXj10lmaKMqMnGry9TN2wNZYoxn3ye2XETNPllV1o+zOXTRv3ygq5nXMsDr7Zt2xZkv6ADwRC4tI66M6LgrwK8yFQIxNRVNvXs2TP7Y+j/sz2QLceVJnb4YAiKbaurdPnVPZ8dcm+//ba4cDOBTBlVxw/fYzDZeJHdCanJ7+pyD2VQViEjXZfnlfs3TPkyWszfHccGFXc6PZTt4egyOo1uV5poo7RVo5ohwO44fEEx21bQgbgomTqHXWzrVs2KLs9dOAoXVlhcTJicBz799NPay4XXsIn99UyrBcELh3q6d+8e2MGrmmILBtdee624UCaqcLvvvntNf1rx+/xDakHIxy/DL7PilStQgL/byp+Wyr7l6KOPFhfBQa666qrMZbb2cv6Dg4RhrFmBFTqNbleakA9tFX0Ni0rJJ5unmt6X/Zty/48PoBPv63WV57s1hipEljt3/iIyWdTc/nDPGSSNcEoSGMKnE4Tt448/rsJ7GBf8eD6uJxVI8QSTJGtYGOEY8iuIrgwdOtRzBkCDKYYRmjufp/zPxPMJMuwNZVFm0OR2ymj4eDcK0vAT7jCn585KVUnVSswydwhXU5dec801mvDqP//5T9DsannoMLqMTgdBtFFnBDWQZBDlZZdRU/m4bfHepZdeqnzCqzsHp7Gxsp8V1P9k0sQX0M4LEfuiCxIxjtq0aRNKQLiCDLmLbrFNY7K4A2zFbgnlulvY99zulcDKDjsgXHZFCfr2zjvvREpPsvkj6ikRRYPMHElZlEnZUSYMGrGxXG88NDaDDkRKRWmrtFmj0gigF/iAUoFIizoQtzitHpDAeEbFEZgxY4bXqFEjz03fFL+pAt8cdthhXuvWrT23t78CT0/OI8855xyNvkpQzqCIsoj4StlGxRFAd9FhdDlIoq3SZmm7RsUR8IOi4guKUVEHwg+YNnI7Izy3b7rY71N/namAMAw503o0gotdDg6jwgjMmjVLDfnZZ59d+IYKXqVMnAg8GBVGAN1Fh9HlIMl3XLRdo8IIYPOx/fiAUlTSgbz11ls6P3nFFVeUekZqv3vuued0lDZo0KBQMHARVT0XgiIySb9CAaFEoQcffLDn9q97TPkFTZRJiHR4MKqKAMmK0F10OAyizbK+QBs2qooANp+1KXxAKSrpQPihO2/hudO1ntvmV+o5qfvOnUHR+UEWLMPKy8FUCQulLrpoqPPYURT+PffcowaCDIlhEWVjpODF6HcEmFtHZ9HdIKcWf+fA0zZL2yXxF/RZL8MAABlSSURBVG3Z6HcEsPXYfGx/dVStA2GhzYWm8NwebS9qi9fVVa5S35MxjEU4dygp9J1gLqik9hT+9a9/Vaq6sXsuUyL0btmtFzbBA7wEPU0Tdr1LlY+u0rtFd8MkdnHShmnLtGkjT208th6bj+2vjqp1IDyADIUugqfXo0cPz8VFqe6Zif+elKE0gIcffjgSdXWH97SnG1RGxEhUuggTLty/50LeeBtvvLHu2ityW2CX2TkIL/AEb2knPyMgOhsFog3TlmnTaSdsO+mpsfXY/JpQjRwIDxozZowOa/bff//QpmxqUqFK3+OiAquxDnrXVal60XtirzgLkk888USpWxP9HVMR5G8mRao7aR2ZusILPMFbmqdL2PKNjqKrUerx05aZaqRtp5WYhse2M3WFra8p1diB8EC8NQrQq1cvjzzKaSIU/q9//asqmosMHLmqc4CPw2suaqaXxpHILLfbif39LFxXt/AXhvDgCd7gEV7TRugkuomORvGwKW0aJ0Ibj5JzC0JPsOV777232vbazqrUyoFQmREjRujJxK233tpzyWeCqF/oZTAX2L9/f1WwKO9Io2HSu6MhcEArLQ0B48xWahZEXcy00PWlGAMuq6byCK9RdHLF+K7PdXQQXUQn0c0oOg+/frRt+KSt12T+3/9dnN+ZVsWWc9oc215bqrUDoQDCAbgsYp6LbumNHDmytmXG6n4avYtQ6rkYQd6QIUMizzsN1oW+14ZAr8LF04k8z/Vh0GWrVNl06tQpFtuZ2b4Kr+gTvCeZ0D10EKOMTsahQ0MbRza0edp+kgnbjQ3Hltc1DFOdHAigzp0713PZ6FQ5WIByOQYShTVbDWngLnub7kBzEWZjVT/WQjgDwVZJYnUljVyIaY2HhnE67rjjPJd/JDZVhFd4hndiulGXpBE6h+6hg8OHD49V9Wjr7ESi7WMDwgz1UgngsNXYbPQPG44tryvV2YFQoEvmpEG/OHFLzJTazp/VlelK/w5v7NK1KsAuKVJsnSO9XXbO+YYqKsEn6yM/pkBc1FjdGutyr3hxDrUD79SBbb7UKcrTOzWVGTqGU0Tn0D10MI6EkaXtUw9sQV176FGrOzYaW43NJmAjNrw+VC8H4hc8c+ZMjegJ2DvttFNsT3e60MXegAEDdFsf+6Bfeuklv4qxfnc55HUXED2qM888s149jrCAoBd4//33ey6ZmMqHHnwSdjRRB+rCVlKX7EnrGMceL71YdAsdY8fZfffdF5aqlLVcbAC2APlgG7ARcSRO3GObsdF77bWXh80uB5XFgfiMDBs2TLcqwqSLH6/rI/X1cP6zK/nuEqZoyAmUhAVOhq1J6A1mY0YIb+ah6e3SyF22QM8lPcq+JZL/s5h51113qeNAr4jN4xICRZLX+jBFnagbdcRJUuc4LOSyRRldQqfQLXQMXUsSYQuwCdgGbASL7NiMqBO2l4VxbDF6xTZybHQ5qawOBMZYKCM/BAuFMO1SnXoDBw6M3Dwv8e1vv/32zFSVy+2tIb/j0GjrowCEjmDLIoeFaAx77rmn55IJeYsXL67PY8v+W3ZTnX766br11Xcc48ePL3s5UXsgdfQdCdt+wSBqO8vQFXQG3UGH0CV0KqywJEHJENtAqH5sBTrJ1BY2pFiujKD4yi+HNTVsLrYXPrHF2ORKbGIouwPJrgxhgA899FDd1YCi7bDDDh4JbMI65PXVV195JM7p3bt3hicaq8t2mLgRR7YcCv3PHO9tt93mde7cWZVs1VVX1bDaGIYwzvig3GxtJYENUwYo/mqrraaLfXGdNiiEe02vUWcWOsEALMAEbMCoEoagOr7QCXSD0OvoCjyhO+hQ0jbQVIcFIxJsBrYDu8auLWwKtgUbEwZhU7Gt2FifJ2xvqVDs5eCzAQ9xylBRIke0O4UqbmeQuDlFTSfpQjuIOzavL9JZuvnfsubQplou25m47F7ienX6mj59Og5TunbtKv369RM3FA0kD3NFwS3Dw8mH7Ya2Kh9yebvTqIqRL59tttlGXK+rDCX9/ggXNkGckZQJEyaobF5++WVx6wHipkHENUZxMaTEhduWFVdc8fcfpfA/1+sVNw2hshk1apS4HVzitl7KLrvsom3HzWuL62GK28dfVnS+/PJLmTRpUqbtkOfenVbW9oJsXJRh2W677cpaZhwfRntxjlXtGxg54y1uqihj28gl7sKilzVdL3L44IMPNLe7b9vcZgVxBzXF7arStoN9c9tzKw5pIA4kuxbkX37mmWdk3Lhx+nKLOfo1Rqt9+/baGNq2bStup4C+MFwu4Jm4OVZtJG73gLgegLh49YIRooGRO9gt4unLZYETHMV7772njY2H8yy3I0Rf++yzj+C8jAoj4Pa+i1twU9lg1F0ATb2xRYsWKhvXE5b11lsvIx+3YKpywYAhIxepICMbZMTvMUa+fFxPSR3HrFmzxPWk9X43FaCyQfn32GOPshvDwjWN31X0nZzzdMJoP5MnTxY3zy0u+6HQZnAkbv0kIxvajpsGy7Qd5MP9ftvheW7aKSMbd6hMXNBHlQ/tFOL3OCvaj1t8FTfqiB9wAXGMEc+2beg8RKfInStRx7LBBhtk5OPWVLSD5LcdN5IRNz2odg0ZuVFfTttx2SPVtmEzcSIQNjPbttFOg6TAHUh+5dyQT3s69EZ5YfxxAvRGazs4csN9NW4YORoTL3fKUlwwu/xi7XMNEMDAIw+cii8flNdFIFDHXYNHZG7BsbhzAdob82XDO6NBNyWSuc/+qTkCbupI6PX6suGdUTdtCkdRG2Kk507yZzpxyAZnQW8aB2VUewQw+C7dc0Y+OGectFszqdXDGNUw6sT5IA+//TAzQJsKk0J3IMUqzyiDniujC5dBTHtNbnFIXIx6Oeuss6Rnz57as0LxAZFRRtqnO4phWYnrNAJ6WDh6erK86DW5Lag6gvBHjDgHesLICCdiVHkEcB44EdoPTsaXDe9Mc/iyoeeLYaLt0PkyCgYBZk1oO8iI//0RIaMKZlj8EYnbnCCMUmg/jE6iSJF1IIXAwoHghVlPYR7WyBAwBAwBQyA8BGxsGh72VrIhYAgYArFGwBxIrMVnzBsChoAhEB4C5kDCw95KNgQMAUMg1giYA4m1+Ix5Q8AQMATCQ8AcSHjYW8mGgCFgCMQaAXMgsRafMW8IGAKGQHgImAMJD3sr2RAwBAyBWCNgDiTW4jPmDQFDwBAIDwFzIOFhbyUbAoaAIRBrBMyBxFp8xrwhYAgYAuEhYA4kPOytZEPAEDAEYo2AOZBYi8+YNwQMAUMgPATMgYSHvZVsCBgChkCsETAHEmvxGfOGgCFgCISHgDmQ8LC3kg0BQ8AQiDUC5kBiLT5j3hAwBAyB8BAwBxIe9layIWAIGAKxRsAcSKzFZ8wbAoaAIRAeAuZAwsPeSjYEDAFDINYImAOJtfiMeUPAEDAEwkPAHEh42FvJhoAhYAjEGgFzILEWnzFvCBgChkB4CJgDCQ97K9kQMAQMgVgjYA4k1uIz5g0BQ8AQCA8BcyDhYW8lGwKGgCEQawTMgcRafMa8IWAIGALhIWAOJDzsrWRDwBAwBGKNgDmQWIvPmDcEDAFDIDwEzIGEh72VbAgYAoZArBEwBxJr8RnzhoAhYAiEh4A5kPCwt5INAUPAEIg1AuZAYi0+Y94QMAQMgfAQMAcSHvZWsiFgCBgCsUagcVS5nzt3rsycOTOHva+//lo/T506VdZYY42c79q0aSPt27fPuWYfDAFDwBAwBCqHQAPPUeUeX/cnT5kyRbbaaqsaP+DOO++U4447rsb3242GgCFgCBgC9UMgsg6EanXo0KHKKKRQdRs3bizz58+X1VdfvdDXds0QMAQMAUOgAghEeg3k6KOPlgYNGpSsdqNGjaR3797mPEqiZF8aAoaAIVB+BCLtQA499FCpboZt2bJlcsQRR5QfGXuiIWAIGAKGQEkEIj2FBefbb7+9vP3227J8+fKCFWnevLl88803wruRIWAIGAKGQHAIRHoEAgxHHXVUUefB9FW/fv3MeQSnL1aSIWAIGAIZBCLvQA455BBp2LAwm0xfHX744ZnK2D+GgCFgCBgCwSFQ2DIHV361Ja299tqy2267CaONfGLX1V577ZV/2T4bAoaAIWAIBIBA5B0IGLBIzmgjm3Aohx12mLCF18gQMAQMAUMgeAQiv4gOJD/88IO0bNlSlixZkoPQ+PHjZZdddsm5Zh8MAUPAEDAEgkEgFiOQ1VZbTfr06ZMzjbXOOuvIzjvvHAxKVoohYAgYAoZAFQRi4UDgOnsai0V1dmdVd8iwSm3tgiFgCBgChkDZEIjFFBa1XbRokay55pryyy+/aOXfeecd6dKlS9mAsAcZAoaAIWAI1A6B2IxAmjVrJgcffLDWbtNNNzXnUTs5292GgCFgCJQdgUhvYVq8eLHMmzdPFi5cqCOQzp07KwAsnL/55pt6gJAT6Gz1XXnllcsOjj3QEDAEDAFDoDgCoU9h4STee+89mTZtmr6mT58us2fPFvKBEKKkprTKKqsIOUHWW2892XzzzWXLLbeUTp066TvfGRkChoAhYAiUF4HAHQhbcV9++WUZN26cvt544w0dXVCttdZaS41+27Zt1Rmw0wqnwOiCkQavZ599VvbZZx/9za+//qprIoxScDi8cD44oc8//1yRYsGdtZIePXroa/fddxdzKOVVInuaIWAIpBOBQBwIC+DPPPOMPPHEEzJy5Ej5/vvvZaWVVpIdd9xRdt11V+nevbs6DqaiykU//vijOpKJEycK50VwWuQMadq0qey5554aQ2v//feXFi1alKtIe44hYAgYAqlCoKIOZMaMGTJ48GC599575bvvvhNGFgceeKC+dthhh8BPkTNN9uSTT6ojYxcXzoRgjCeffLIdSEyV2ltlDQFDoBwIVMSB0OMfOHCgvPDCC7LqqqvqGY7jjz9ettlmm3LwXJZnfPrppzJkyBAhFe6cOXN0BHTeeefJgAEDigZvLEvB9hBDwBAwBBKCQFm38U6YMEFYY2C9gbWIO+64Q9clbrvttkg5D2S30UYbycUXXyyfffaZPPXUU5rRkMi+LLwPHTq02kRWCZG/VcMQMAQMgTojUBYH8tVXX+nJcEKLsJB9//33y/vvvy8nnHCCrnXUmbsAfkhQxv3220/XSF588UVp1aqVkAkRJ8iUl5EhYAgYAoZAYQTq7UCYAurQoYOMGDFC/v3vf6vRPfLII3PiVhUuOnpXCRs/duxYGT58uI6gtt56a/nnP/9ZJYhj9Dg3jgwBQ8AQCB6BOq+BsMuJEcajjz6qJ8RvuukmYdttUoiQKZdeeqlcc8010rVrV3nkkUdk4403Tkr1rB6GgCFgCNQbgTo5EKan+vbtq6fEcRzHHXdcvRmJ6gM4r0Igx59++kkeeughjQocVV6NL0PAEDAEgkSg1lNYr776qoZRJxLuW2+9lWjngSBYC3n33Xdl2223lQMOOEDuvvvuIOVjZRkChoAhEFkEauVAxowZo4fw2rVrJzgSQoakgYgCPHr0aCE/O6Ot66+/Pg3VtjoaAoaAIVASgRoHUyR44UEHHSTbbbedjBo1KvK7q0rWug5frrDCCvLAAw8Iya3OOeccDbtyzDHH1OFJ9hNDwBAwBJKBQI3WQD755BPp1q2brLvuuhq/CiOaVlq+fLmuiQwbNkz++9//Sq9evdIKhdXbEDAEUo5AtQ5k6dKlstNOO8kXX3whkyZN0tDpKcdMt/XuscceetZl6tSp0rp167RDYvU3BAyBFCJQ7RrIhRdeqIvlHA4sZ7DDOGPdpEkT3ZHFaOToo4+2U+txFqbxbggYAnVGoKQDYbsu5yCY8ydEidHvCJB3hFAtzz33nDz88MO/f2H/GQKGgCGQEgRKTmGxbZV8HR9++KFl/CuiEDjWWbNmycyZM4WFdiNDwBAwBNKCQNERCLuuCDJ4ySWXmPMooQ3XXXedBmQkpIuRIWAIGAJpQqDoCOSkk07SvBmEOg+rZ01WQV4knipEfEeSKoI5duzYUfr37x8KrySoIv0uOUaMDAFDwBBICwIFRyDEgSL201FHHRWKQf7yyy/ltNNOk0033VQzGRYSxoMPPiibbbaZnH/++XLllVcKARzJN4IzCZo4XDh58mRzIEEDb+UZAoZAqAgUdCCkfyVYIvkxgiZ68hhjzpwsXry4YPHkPCfHCD3+hQsXyksvvaQZBbl+1llnFfxNJS+SZbFZs2Z6LqSS5dizDQFDwBCIEgIFT6ITpmTllVcWwpkHTYQN2XfffYX3YsTog8CGG264od7Ss2dPDS+y/fbbFx2xFHtWOa7jPDihD25GhoAhYAikBYGCI5DXX39dMMYkW4oi7b333hnn4fOHAd9kk02Eg49hEOs07FgzMgQMAUMgLQgUdCAff/yxpnyNKgiMOApR48aNNXdHoe8qfY0Uud99952+Kl2WPd8QMAQMgSggUNCBfPvttyWnkKLAeD4PCxYskA8++EDOO++8/K8C+bzWWmtpOazhGBkChoAhkAYECjqQ3377LXbRdgcOHCh//OMfNdx8GIJbaaWVtNglS5aEUbyVaQgYAoZA4AgUXERfccUVYzUVw5oNJ8GJjhsWMX0FNW/ePCwWrFxDwBAwBAJFoKADIWgiU0JxIA4TEvBx6NChQpDDsMjHywJOhiUBK9cQMASCRqDgFNYWW2wh7733XtC81Lo88pQT6JFIwWussUatf1/OH3AGhYV0G4GUE1V7liFgCEQZgYIOpHv37jJlyhTBQEeVFi1aJKeeeqpce+21VcLMk7fc87xAWZ8wYULRkCuBMmKFGQKGgCEQEAIFp7B23nlnWbZsmWYf7Nu3b0Cs5BYzb948vVDIiXHWg/zkTFlxIt0nrn/00Ud6HqRBgwb+5Yq/wysjtr/85S8VL8sKMAQMAUMgKggUdCBdu3aVdu3ayT333CNBO5Bff/1VHnvssYxjINcGvPTp00fatm2ruJ144okycuTIohiSxyRIuvfee/XQJTnjjQwBQ8AQSAsCRaPxXn755RrKnUVqWxgurg5MlbVv315YN3ryySeL32jfGAKGgCGQMAQKroFQxz/96U/Cye4rrrgiYVUub3WIy0XCLdZjjAwBQ8AQSBMCRUcggECodBap2WFEaHWjXARYyGf0QVh5UtsaGQKGgCGQJgRKOhBCuhOgcMstt1QD2bBh0QFLmjDL1PUf//iHRgEme2MYkYszjNg/hoAhYAiEgEBJj7DqqqvKXXfdJS+++KJcffXVIbAX3SIZcTA6I/aWOY/oysk4MwQMgcohUHIE4hfL9tQ77rhDRo8eHVqsKZ+XKLzPmjVLOCvDrjCSb7FWZGQIGAKGQNoQqJEDYa6/V69eMmnSJM3+t+2226YNp0x9SZnLORmyJZJAar311st8Z/8YAoaAIZAmBGrkQADkhx9+0LSx5CsfM2ZMKqdtcB44UrY2v/LKK7L55punSVesroaAIWAI5CBQcg0k+87VVltNnn32WVlnnXVk11131f+zv0/6/+QaYdpqzpw5mjbXnEfSJW71MwQMgeoQqLED4UE4D+b8OanOCfWbb765uucn4nscJylrOTRIzCvS5xoZAoaAIZB2BGrlQADLH4kcffTRcvrpp8v+++8vSc3CR3Kov/3tb7LvvvtKx44d5bXXXtMzH2lXGqu/IWAIGAIgUGsHwo+aNm2q23s5hf3SSy/pORFiViWJGGmwWeCGG26QCy64QLcyt27dOklVtLoYAoaAIVAvBOrkQPwSDz/8cJk8ebJstdVWwv+77babTJ061f86lu9sEiA17i677CLLly/XiMSXXHKJBkuMZYWMaUPAEDAEKoRAvRwIPG288cZ6PoQIuoRSx5n0798/do5k7ty5cuaZZ2p9hg0bJtdcc4288847umW3QtjbYw0BQ8AQiDUCNd7GW5Nacl5k8ODBemqdHBm9e/eWk08+Wd+jGgZl4sSJyvNDDz2ko4w///nPuu7RsmXLmlTZ7jEEDAFDILUIlNWB+CjiSO6880659dZbZcaMGbL++uvrtFC/fv2kc+fO/m2hvc+ePVuGDx8uQ4YM0Sk4wtUff/zxcsYZZ4g5jtDEYgUbAoZAzBCoiAPJxmDs2LEyaNAgGTFihJAsiuRQBx54oIZEYWvsKquskn17Rf7/7bff5K233tIFf3J28H+jRo2kZ8+eQnIq+CG7oZEhYAgYAoZAzRGouAPxWfnll190reTxxx+XUaNG6cl2jDiBCDmg16lTJ32xXZatwnUlRj9kJJw2bZqGoWeK6vXXX1fnxe4xFvoZCbH92EYbdUXZfmcIGAKGgEhgDiQbbHY3sXtr3LhxMn78eHn77bc1PIh/T4sWLaRNmzZ6cJH3lVdeWZo3b64vnAAjChwFI5qff/5ZCDHCIjiv+fPn6+4pnrXWWmtJly5ddEdVjx49pFu3btKsWTO/GHs3BAwBQ8AQqAcCoTiQQvwSa4vEVbxYo8AZEDaExfiFCxdmHAZBDJlu8h3KiiuuKK1atVKHg7MhuCHpZRnRWCreQkjbNUPAEDAEyoNAZBxIeapjTzEEDAFDwBAICoF6nwMJilErxxAwBAwBQyBaCJgDiZY8jBtDwBAwBGKDgDmQ2IjKGDUEDAFDIFoImAOJljyMG0PAEDAEYoPA/wfu3ToO1xefsQAAAABJRU5ErkJggg==\n",
          "text/plain": "<IPython.core.display.Image object>"
         },
         "metadata": {},
         "output_type": "display_data"
        }
       ]
      }
     },
     "fdc28bc5999f467095f5fb917e3212df": {
      "model_module": "@jupyter-widgets/controls",
      "model_module_version": "1.4.0",
      "model_name": "IntSliderModel",
      "state": {
       "description": "n",
       "layout": "IPY_MODEL_8dd36965ae4a417e98c764a005909949",
       "max": 68,
       "style": "IPY_MODEL_13abb4b49d414b1380e245b34cc7a9ad",
       "value": 10
      }
     },
     "fefac51f61eb48b182384981e9a22416": {
      "model_module": "@jupyter-widgets/base",
      "model_module_version": "1.1.0",
      "model_name": "LayoutModel",
      "state": {}
     },
     "ff52bb8d755343f0ad2b02be2f7d7b54": {
      "model_module": "@jupyter-widgets/base",
      "model_module_version": "1.1.0",
      "model_name": "LayoutModel",
      "state": {}
     }
    },
    "version_major": 2,
    "version_minor": 0
   }
  }
 },
 "nbformat": 4,
 "nbformat_minor": 1
}
